{
 "cells": [
  {
   "cell_type": "markdown",
   "id": "551000ae",
   "metadata": {},
   "source": [
    "## Loading important libraries"
   ]
  },
  {
   "cell_type": "code",
   "execution_count": 1,
   "id": "13bd1af9",
   "metadata": {},
   "outputs": [],
   "source": [
    "import numpy as np\n",
    "import pandas as pd\n",
    "import matplotlib.pyplot as plt\n",
    "%matplotlib inline\n",
    "from warnings import filterwarnings\n"
   ]
  },
  {
   "cell_type": "markdown",
   "id": "e5a09282",
   "metadata": {},
   "source": [
    "## Loading Data"
   ]
  },
  {
   "cell_type": "code",
   "execution_count": 2,
   "id": "90bda912",
   "metadata": {},
   "outputs": [],
   "source": [
    "df = pd.read_csv(\"spam.csv\",encoding='latin-1')"
   ]
  },
  {
   "cell_type": "code",
   "execution_count": 3,
   "id": "a44814b9",
   "metadata": {},
   "outputs": [
    {
     "data": {
      "text/html": [
       "<div>\n",
       "<style scoped>\n",
       "    .dataframe tbody tr th:only-of-type {\n",
       "        vertical-align: middle;\n",
       "    }\n",
       "\n",
       "    .dataframe tbody tr th {\n",
       "        vertical-align: top;\n",
       "    }\n",
       "\n",
       "    .dataframe thead th {\n",
       "        text-align: right;\n",
       "    }\n",
       "</style>\n",
       "<table border=\"1\" class=\"dataframe\">\n",
       "  <thead>\n",
       "    <tr style=\"text-align: right;\">\n",
       "      <th></th>\n",
       "      <th>v1</th>\n",
       "      <th>v2</th>\n",
       "      <th>Unnamed: 2</th>\n",
       "      <th>Unnamed: 3</th>\n",
       "      <th>Unnamed: 4</th>\n",
       "    </tr>\n",
       "  </thead>\n",
       "  <tbody>\n",
       "    <tr>\n",
       "      <th>0</th>\n",
       "      <td>ham</td>\n",
       "      <td>Go until jurong point, crazy.. Available only ...</td>\n",
       "      <td>NaN</td>\n",
       "      <td>NaN</td>\n",
       "      <td>NaN</td>\n",
       "    </tr>\n",
       "    <tr>\n",
       "      <th>1</th>\n",
       "      <td>ham</td>\n",
       "      <td>Ok lar... Joking wif u oni...</td>\n",
       "      <td>NaN</td>\n",
       "      <td>NaN</td>\n",
       "      <td>NaN</td>\n",
       "    </tr>\n",
       "    <tr>\n",
       "      <th>2</th>\n",
       "      <td>spam</td>\n",
       "      <td>Free entry in 2 a wkly comp to win FA Cup fina...</td>\n",
       "      <td>NaN</td>\n",
       "      <td>NaN</td>\n",
       "      <td>NaN</td>\n",
       "    </tr>\n",
       "    <tr>\n",
       "      <th>3</th>\n",
       "      <td>ham</td>\n",
       "      <td>U dun say so early hor... U c already then say...</td>\n",
       "      <td>NaN</td>\n",
       "      <td>NaN</td>\n",
       "      <td>NaN</td>\n",
       "    </tr>\n",
       "    <tr>\n",
       "      <th>4</th>\n",
       "      <td>ham</td>\n",
       "      <td>Nah I don't think he goes to usf, he lives aro...</td>\n",
       "      <td>NaN</td>\n",
       "      <td>NaN</td>\n",
       "      <td>NaN</td>\n",
       "    </tr>\n",
       "  </tbody>\n",
       "</table>\n",
       "</div>"
      ],
      "text/plain": [
       "     v1                                                 v2 Unnamed: 2  \\\n",
       "0   ham  Go until jurong point, crazy.. Available only ...        NaN   \n",
       "1   ham                      Ok lar... Joking wif u oni...        NaN   \n",
       "2  spam  Free entry in 2 a wkly comp to win FA Cup fina...        NaN   \n",
       "3   ham  U dun say so early hor... U c already then say...        NaN   \n",
       "4   ham  Nah I don't think he goes to usf, he lives aro...        NaN   \n",
       "\n",
       "  Unnamed: 3 Unnamed: 4  \n",
       "0        NaN        NaN  \n",
       "1        NaN        NaN  \n",
       "2        NaN        NaN  \n",
       "3        NaN        NaN  \n",
       "4        NaN        NaN  "
      ]
     },
     "execution_count": 3,
     "metadata": {},
     "output_type": "execute_result"
    }
   ],
   "source": [
    "df.head()"
   ]
  },
  {
   "cell_type": "code",
   "execution_count": 4,
   "id": "5a247f84",
   "metadata": {},
   "outputs": [
    {
     "name": "stdout",
     "output_type": "stream",
     "text": [
      "<class 'pandas.core.frame.DataFrame'>\n",
      "RangeIndex: 5572 entries, 0 to 5571\n",
      "Data columns (total 5 columns):\n",
      " #   Column      Non-Null Count  Dtype \n",
      "---  ------      --------------  ----- \n",
      " 0   v1          5572 non-null   object\n",
      " 1   v2          5572 non-null   object\n",
      " 2   Unnamed: 2  50 non-null     object\n",
      " 3   Unnamed: 3  12 non-null     object\n",
      " 4   Unnamed: 4  6 non-null      object\n",
      "dtypes: object(5)\n",
      "memory usage: 217.8+ KB\n"
     ]
    }
   ],
   "source": [
    "df.info()"
   ]
  },
  {
   "cell_type": "code",
   "execution_count": 5,
   "id": "73ad2ce6",
   "metadata": {},
   "outputs": [
    {
     "data": {
      "text/html": [
       "<div>\n",
       "<style scoped>\n",
       "    .dataframe tbody tr th:only-of-type {\n",
       "        vertical-align: middle;\n",
       "    }\n",
       "\n",
       "    .dataframe tbody tr th {\n",
       "        vertical-align: top;\n",
       "    }\n",
       "\n",
       "    .dataframe thead th {\n",
       "        text-align: right;\n",
       "    }\n",
       "</style>\n",
       "<table border=\"1\" class=\"dataframe\">\n",
       "  <thead>\n",
       "    <tr style=\"text-align: right;\">\n",
       "      <th></th>\n",
       "      <th>v1</th>\n",
       "      <th>v2</th>\n",
       "      <th>Unnamed: 2</th>\n",
       "      <th>Unnamed: 3</th>\n",
       "      <th>Unnamed: 4</th>\n",
       "    </tr>\n",
       "  </thead>\n",
       "  <tbody>\n",
       "    <tr>\n",
       "      <th>95</th>\n",
       "      <td>spam</td>\n",
       "      <td>Your free ringtone is waiting to be collected....</td>\n",
       "      <td>PO Box 5249</td>\n",
       "      <td>MK17 92H. 450Ppw 16\"</td>\n",
       "      <td>NaN</td>\n",
       "    </tr>\n",
       "    <tr>\n",
       "      <th>281</th>\n",
       "      <td>ham</td>\n",
       "      <td>\\Wen u miss someone</td>\n",
       "      <td>the person is definitely special for u..... B...</td>\n",
       "      <td>why to miss them</td>\n",
       "      <td>just Keep-in-touch\\\" gdeve..\"</td>\n",
       "    </tr>\n",
       "    <tr>\n",
       "      <th>444</th>\n",
       "      <td>ham</td>\n",
       "      <td>\\HEY HEY WERETHE MONKEESPEOPLE SAY WE MONKEYAR...</td>\n",
       "      <td>HOWU DOIN? FOUNDURSELF A JOBYET SAUSAGE?LOVE ...</td>\n",
       "      <td>NaN</td>\n",
       "      <td>NaN</td>\n",
       "    </tr>\n",
       "    <tr>\n",
       "      <th>671</th>\n",
       "      <td>spam</td>\n",
       "      <td>SMS. ac sun0819 posts HELLO:\\You seem cool</td>\n",
       "      <td>wanted to say hi. HI!!!\\\" Stop? Send STOP to ...</td>\n",
       "      <td>NaN</td>\n",
       "      <td>NaN</td>\n",
       "    </tr>\n",
       "    <tr>\n",
       "      <th>710</th>\n",
       "      <td>ham</td>\n",
       "      <td>Height of Confidence: All the Aeronautics prof...</td>\n",
       "      <td>this wont even start........ Datz confidence..\"</td>\n",
       "      <td>NaN</td>\n",
       "      <td>NaN</td>\n",
       "    </tr>\n",
       "  </tbody>\n",
       "</table>\n",
       "</div>"
      ],
      "text/plain": [
       "       v1                                                 v2  \\\n",
       "95   spam  Your free ringtone is waiting to be collected....   \n",
       "281   ham                                \\Wen u miss someone   \n",
       "444   ham  \\HEY HEY WERETHE MONKEESPEOPLE SAY WE MONKEYAR...   \n",
       "671  spam         SMS. ac sun0819 posts HELLO:\\You seem cool   \n",
       "710   ham  Height of Confidence: All the Aeronautics prof...   \n",
       "\n",
       "                                            Unnamed: 2             Unnamed: 3  \\\n",
       "95                                         PO Box 5249   MK17 92H. 450Ppw 16\"   \n",
       "281   the person is definitely special for u..... B...       why to miss them   \n",
       "444   HOWU DOIN? FOUNDURSELF A JOBYET SAUSAGE?LOVE ...                    NaN   \n",
       "671   wanted to say hi. HI!!!\\\" Stop? Send STOP to ...                    NaN   \n",
       "710    this wont even start........ Datz confidence..\"                    NaN   \n",
       "\n",
       "                         Unnamed: 4  \n",
       "95                              NaN  \n",
       "281   just Keep-in-touch\\\" gdeve..\"  \n",
       "444                             NaN  \n",
       "671                             NaN  \n",
       "710                             NaN  "
      ]
     },
     "execution_count": 5,
     "metadata": {},
     "output_type": "execute_result"
    }
   ],
   "source": [
    "df[~df[\"Unnamed: 2\"].isnull()].head()"
   ]
  },
  {
   "cell_type": "code",
   "execution_count": 6,
   "id": "d25d12fb",
   "metadata": {},
   "outputs": [
    {
     "data": {
      "text/plain": [
       "array(['ham', '\\\\Keep ur problems in ur heart',\n",
       "       ' b\\'coz nobody will fight for u. Only u &amp; u have to fight for ur self &amp; win the battle. -VIVEKANAND- G 9t.. SD..\"',\n",
       "       nan, nan], dtype=object)"
      ]
     },
     "execution_count": 6,
     "metadata": {},
     "output_type": "execute_result"
    }
   ],
   "source": [
    "df.iloc[5079].values"
   ]
  },
  {
   "cell_type": "code",
   "execution_count": 487,
   "id": "ea03f04f",
   "metadata": {},
   "outputs": [
    {
     "data": {
      "text/plain": [
       "array(['ham', '\\\\Hey j! r u feeling any better',\n",
       "       ' hopeSo hunny. i amnow feelin ill & ithink i may have tonsolitusaswell! damn iam layin in bedreal bored. lotsof luv me xxxx\\\\\"\"',\n",
       "       nan, nan], dtype=object)"
      ]
     },
     "execution_count": 487,
     "metadata": {},
     "output_type": "execute_result"
    }
   ],
   "source": [
    "df.iloc[4601].values"
   ]
  },
  {
   "cell_type": "code",
   "execution_count": 488,
   "id": "44799dbc",
   "metadata": {},
   "outputs": [
    {
     "data": {
      "text/plain": [
       "array(['ham', '\\\\Wen u miss someone',\n",
       "       ' the person is definitely special for u..... But if the person is so special',\n",
       "       ' why to miss them', ' just Keep-in-touch\\\\\" gdeve..\"'],\n",
       "      dtype=object)"
      ]
     },
     "execution_count": 488,
     "metadata": {},
     "output_type": "execute_result"
    }
   ],
   "source": [
    "df.iloc[281].values"
   ]
  },
  {
   "cell_type": "code",
   "execution_count": 489,
   "id": "c1531471",
   "metadata": {},
   "outputs": [
    {
     "data": {
      "text/plain": [
       "Index(['v1', 'v2', 'Unnamed: 2', 'Unnamed: 3', 'Unnamed: 4'], dtype='object')"
      ]
     },
     "execution_count": 489,
     "metadata": {},
     "output_type": "execute_result"
    }
   ],
   "source": [
    "df.columns"
   ]
  },
  {
   "cell_type": "code",
   "execution_count": 7,
   "id": "b10fb99a",
   "metadata": {},
   "outputs": [],
   "source": [
    "df_copy=df.copy()"
   ]
  },
  {
   "cell_type": "code",
   "execution_count": 8,
   "id": "bf9e5423",
   "metadata": {},
   "outputs": [],
   "source": [
    "df=df.fillna('')"
   ]
  },
  {
   "cell_type": "code",
   "execution_count": 10,
   "id": "1ef23083",
   "metadata": {},
   "outputs": [],
   "source": [
    "# Concatenating message spilt across 4 columns due to comma seperation\n",
    "df[\"new_msg\"]=df['v2']+' '+df['Unnamed: 2']+' '+df['Unnamed: 3']+' '+df['Unnamed: 4']"
   ]
  },
  {
   "cell_type": "code",
   "execution_count": 11,
   "id": "af7a9bec",
   "metadata": {},
   "outputs": [
    {
     "data": {
      "text/plain": [
       "0    Go until jurong point, crazy.. Available only ...\n",
       "1                     Ok lar... Joking wif u oni...   \n",
       "2    Free entry in 2 a wkly comp to win FA Cup fina...\n",
       "3    U dun say so early hor... U c already then say...\n",
       "4    Nah I don't think he goes to usf, he lives aro...\n",
       "Name: new_msg, dtype: object"
      ]
     },
     "execution_count": 11,
     "metadata": {},
     "output_type": "execute_result"
    }
   ],
   "source": [
    "df[\"new_msg\"].head()"
   ]
  },
  {
   "cell_type": "code",
   "execution_count": 494,
   "id": "906ebc47",
   "metadata": {},
   "outputs": [
    {
     "data": {
      "text/plain": [
       "'\\\\Wen u miss someone  the person is definitely special for u..... But if the person is so special  why to miss them  just Keep-in-touch\\\\\" gdeve..\"'"
      ]
     },
     "execution_count": 494,
     "metadata": {},
     "output_type": "execute_result"
    }
   ],
   "source": [
    "df.iloc[281,5]"
   ]
  },
  {
   "cell_type": "code",
   "execution_count": 495,
   "id": "db13d2e2",
   "metadata": {},
   "outputs": [
    {
     "data": {
      "text/html": [
       "<div>\n",
       "<style scoped>\n",
       "    .dataframe tbody tr th:only-of-type {\n",
       "        vertical-align: middle;\n",
       "    }\n",
       "\n",
       "    .dataframe tbody tr th {\n",
       "        vertical-align: top;\n",
       "    }\n",
       "\n",
       "    .dataframe thead th {\n",
       "        text-align: right;\n",
       "    }\n",
       "</style>\n",
       "<table border=\"1\" class=\"dataframe\">\n",
       "  <thead>\n",
       "    <tr style=\"text-align: right;\">\n",
       "      <th></th>\n",
       "      <th>v1</th>\n",
       "      <th>v2</th>\n",
       "      <th>Unnamed: 2</th>\n",
       "      <th>Unnamed: 3</th>\n",
       "      <th>Unnamed: 4</th>\n",
       "      <th>new_msg</th>\n",
       "    </tr>\n",
       "  </thead>\n",
       "  <tbody>\n",
       "    <tr>\n",
       "      <th>0</th>\n",
       "      <td>ham</td>\n",
       "      <td>Go until jurong point, crazy.. Available only ...</td>\n",
       "      <td></td>\n",
       "      <td></td>\n",
       "      <td></td>\n",
       "      <td>Go until jurong point, crazy.. Available only ...</td>\n",
       "    </tr>\n",
       "    <tr>\n",
       "      <th>1</th>\n",
       "      <td>ham</td>\n",
       "      <td>Ok lar... Joking wif u oni...</td>\n",
       "      <td></td>\n",
       "      <td></td>\n",
       "      <td></td>\n",
       "      <td>Ok lar... Joking wif u oni...</td>\n",
       "    </tr>\n",
       "    <tr>\n",
       "      <th>2</th>\n",
       "      <td>spam</td>\n",
       "      <td>Free entry in 2 a wkly comp to win FA Cup fina...</td>\n",
       "      <td></td>\n",
       "      <td></td>\n",
       "      <td></td>\n",
       "      <td>Free entry in 2 a wkly comp to win FA Cup fina...</td>\n",
       "    </tr>\n",
       "    <tr>\n",
       "      <th>3</th>\n",
       "      <td>ham</td>\n",
       "      <td>U dun say so early hor... U c already then say...</td>\n",
       "      <td></td>\n",
       "      <td></td>\n",
       "      <td></td>\n",
       "      <td>U dun say so early hor... U c already then say...</td>\n",
       "    </tr>\n",
       "    <tr>\n",
       "      <th>4</th>\n",
       "      <td>ham</td>\n",
       "      <td>Nah I don't think he goes to usf, he lives aro...</td>\n",
       "      <td></td>\n",
       "      <td></td>\n",
       "      <td></td>\n",
       "      <td>Nah I don't think he goes to usf, he lives aro...</td>\n",
       "    </tr>\n",
       "  </tbody>\n",
       "</table>\n",
       "</div>"
      ],
      "text/plain": [
       "     v1                                                 v2 Unnamed: 2  \\\n",
       "0   ham  Go until jurong point, crazy.. Available only ...              \n",
       "1   ham                      Ok lar... Joking wif u oni...              \n",
       "2  spam  Free entry in 2 a wkly comp to win FA Cup fina...              \n",
       "3   ham  U dun say so early hor... U c already then say...              \n",
       "4   ham  Nah I don't think he goes to usf, he lives aro...              \n",
       "\n",
       "  Unnamed: 3 Unnamed: 4                                            new_msg  \n",
       "0                        Go until jurong point, crazy.. Available only ...  \n",
       "1                                         Ok lar... Joking wif u oni...     \n",
       "2                        Free entry in 2 a wkly comp to win FA Cup fina...  \n",
       "3                        U dun say so early hor... U c already then say...  \n",
       "4                        Nah I don't think he goes to usf, he lives aro...  "
      ]
     },
     "execution_count": 495,
     "metadata": {},
     "output_type": "execute_result"
    }
   ],
   "source": [
    "df.head()"
   ]
  },
  {
   "cell_type": "code",
   "execution_count": 12,
   "id": "d15da6ef",
   "metadata": {},
   "outputs": [],
   "source": [
    "df=df[['v1',\"new_msg\"]]"
   ]
  },
  {
   "cell_type": "code",
   "execution_count": 13,
   "id": "8434076d",
   "metadata": {},
   "outputs": [
    {
     "data": {
      "text/html": [
       "<div>\n",
       "<style scoped>\n",
       "    .dataframe tbody tr th:only-of-type {\n",
       "        vertical-align: middle;\n",
       "    }\n",
       "\n",
       "    .dataframe tbody tr th {\n",
       "        vertical-align: top;\n",
       "    }\n",
       "\n",
       "    .dataframe thead th {\n",
       "        text-align: right;\n",
       "    }\n",
       "</style>\n",
       "<table border=\"1\" class=\"dataframe\">\n",
       "  <thead>\n",
       "    <tr style=\"text-align: right;\">\n",
       "      <th></th>\n",
       "      <th>v1</th>\n",
       "      <th>new_msg</th>\n",
       "    </tr>\n",
       "  </thead>\n",
       "  <tbody>\n",
       "    <tr>\n",
       "      <th>0</th>\n",
       "      <td>ham</td>\n",
       "      <td>Go until jurong point, crazy.. Available only ...</td>\n",
       "    </tr>\n",
       "    <tr>\n",
       "      <th>1</th>\n",
       "      <td>ham</td>\n",
       "      <td>Ok lar... Joking wif u oni...</td>\n",
       "    </tr>\n",
       "    <tr>\n",
       "      <th>2</th>\n",
       "      <td>spam</td>\n",
       "      <td>Free entry in 2 a wkly comp to win FA Cup fina...</td>\n",
       "    </tr>\n",
       "    <tr>\n",
       "      <th>3</th>\n",
       "      <td>ham</td>\n",
       "      <td>U dun say so early hor... U c already then say...</td>\n",
       "    </tr>\n",
       "    <tr>\n",
       "      <th>4</th>\n",
       "      <td>ham</td>\n",
       "      <td>Nah I don't think he goes to usf, he lives aro...</td>\n",
       "    </tr>\n",
       "  </tbody>\n",
       "</table>\n",
       "</div>"
      ],
      "text/plain": [
       "     v1                                            new_msg\n",
       "0   ham  Go until jurong point, crazy.. Available only ...\n",
       "1   ham                   Ok lar... Joking wif u oni...   \n",
       "2  spam  Free entry in 2 a wkly comp to win FA Cup fina...\n",
       "3   ham  U dun say so early hor... U c already then say...\n",
       "4   ham  Nah I don't think he goes to usf, he lives aro..."
      ]
     },
     "execution_count": 13,
     "metadata": {},
     "output_type": "execute_result"
    }
   ],
   "source": [
    "df.head()"
   ]
  },
  {
   "cell_type": "code",
   "execution_count": 14,
   "id": "0021037f",
   "metadata": {},
   "outputs": [],
   "source": [
    "df.rename(columns={\"v1\":\"target\",\"new_msg\":\"message\"},inplace=True)"
   ]
  },
  {
   "cell_type": "code",
   "execution_count": 15,
   "id": "0f3c9c2e",
   "metadata": {},
   "outputs": [
    {
     "data": {
      "text/html": [
       "<div>\n",
       "<style scoped>\n",
       "    .dataframe tbody tr th:only-of-type {\n",
       "        vertical-align: middle;\n",
       "    }\n",
       "\n",
       "    .dataframe tbody tr th {\n",
       "        vertical-align: top;\n",
       "    }\n",
       "\n",
       "    .dataframe thead th {\n",
       "        text-align: right;\n",
       "    }\n",
       "</style>\n",
       "<table border=\"1\" class=\"dataframe\">\n",
       "  <thead>\n",
       "    <tr style=\"text-align: right;\">\n",
       "      <th></th>\n",
       "      <th>target</th>\n",
       "      <th>message</th>\n",
       "    </tr>\n",
       "  </thead>\n",
       "  <tbody>\n",
       "    <tr>\n",
       "      <th>0</th>\n",
       "      <td>ham</td>\n",
       "      <td>Go until jurong point, crazy.. Available only ...</td>\n",
       "    </tr>\n",
       "    <tr>\n",
       "      <th>1</th>\n",
       "      <td>ham</td>\n",
       "      <td>Ok lar... Joking wif u oni...</td>\n",
       "    </tr>\n",
       "    <tr>\n",
       "      <th>2</th>\n",
       "      <td>spam</td>\n",
       "      <td>Free entry in 2 a wkly comp to win FA Cup fina...</td>\n",
       "    </tr>\n",
       "    <tr>\n",
       "      <th>3</th>\n",
       "      <td>ham</td>\n",
       "      <td>U dun say so early hor... U c already then say...</td>\n",
       "    </tr>\n",
       "    <tr>\n",
       "      <th>4</th>\n",
       "      <td>ham</td>\n",
       "      <td>Nah I don't think he goes to usf, he lives aro...</td>\n",
       "    </tr>\n",
       "  </tbody>\n",
       "</table>\n",
       "</div>"
      ],
      "text/plain": [
       "  target                                            message\n",
       "0    ham  Go until jurong point, crazy.. Available only ...\n",
       "1    ham                   Ok lar... Joking wif u oni...   \n",
       "2   spam  Free entry in 2 a wkly comp to win FA Cup fina...\n",
       "3    ham  U dun say so early hor... U c already then say...\n",
       "4    ham  Nah I don't think he goes to usf, he lives aro..."
      ]
     },
     "execution_count": 15,
     "metadata": {},
     "output_type": "execute_result"
    }
   ],
   "source": [
    "df.head()"
   ]
  },
  {
   "cell_type": "code",
   "execution_count": 16,
   "id": "3874da4c",
   "metadata": {},
   "outputs": [
    {
     "data": {
      "text/plain": [
       "(5572, 2)"
      ]
     },
     "execution_count": 16,
     "metadata": {},
     "output_type": "execute_result"
    }
   ],
   "source": [
    "df.shape"
   ]
  },
  {
   "cell_type": "code",
   "execution_count": null,
   "id": "e106afc0",
   "metadata": {},
   "outputs": [],
   "source": [
    "#Check for duplicates"
   ]
  },
  {
   "cell_type": "code",
   "execution_count": 17,
   "id": "0fe7a6d1",
   "metadata": {},
   "outputs": [
    {
     "data": {
      "text/plain": [
       "403"
      ]
     },
     "execution_count": 17,
     "metadata": {},
     "output_type": "execute_result"
    }
   ],
   "source": [
    "df.duplicated().sum()"
   ]
  },
  {
   "cell_type": "code",
   "execution_count": 18,
   "id": "48ea0941",
   "metadata": {},
   "outputs": [],
   "source": [
    "df=df.drop_duplicates(keep='first')"
   ]
  },
  {
   "cell_type": "code",
   "execution_count": 19,
   "id": "d35f3de5",
   "metadata": {},
   "outputs": [
    {
     "data": {
      "text/plain": [
       "(5169, 2)"
      ]
     },
     "execution_count": 19,
     "metadata": {},
     "output_type": "execute_result"
    }
   ],
   "source": [
    "df.shape"
   ]
  },
  {
   "cell_type": "code",
   "execution_count": 20,
   "id": "b28b443d",
   "metadata": {},
   "outputs": [],
   "source": [
    "df_copy_1=df.copy()"
   ]
  },
  {
   "cell_type": "code",
   "execution_count": 21,
   "id": "2f17e3da",
   "metadata": {},
   "outputs": [
    {
     "data": {
      "text/html": [
       "<div>\n",
       "<style scoped>\n",
       "    .dataframe tbody tr th:only-of-type {\n",
       "        vertical-align: middle;\n",
       "    }\n",
       "\n",
       "    .dataframe tbody tr th {\n",
       "        vertical-align: top;\n",
       "    }\n",
       "\n",
       "    .dataframe thead th {\n",
       "        text-align: right;\n",
       "    }\n",
       "</style>\n",
       "<table border=\"1\" class=\"dataframe\">\n",
       "  <thead>\n",
       "    <tr style=\"text-align: right;\">\n",
       "      <th></th>\n",
       "      <th>target</th>\n",
       "      <th>message</th>\n",
       "    </tr>\n",
       "  </thead>\n",
       "  <tbody>\n",
       "    <tr>\n",
       "      <th>0</th>\n",
       "      <td>ham</td>\n",
       "      <td>Go until jurong point, crazy.. Available only ...</td>\n",
       "    </tr>\n",
       "    <tr>\n",
       "      <th>1</th>\n",
       "      <td>ham</td>\n",
       "      <td>Ok lar... Joking wif u oni...</td>\n",
       "    </tr>\n",
       "    <tr>\n",
       "      <th>2</th>\n",
       "      <td>spam</td>\n",
       "      <td>Free entry in 2 a wkly comp to win FA Cup fina...</td>\n",
       "    </tr>\n",
       "    <tr>\n",
       "      <th>3</th>\n",
       "      <td>ham</td>\n",
       "      <td>U dun say so early hor... U c already then say...</td>\n",
       "    </tr>\n",
       "    <tr>\n",
       "      <th>4</th>\n",
       "      <td>ham</td>\n",
       "      <td>Nah I don't think he goes to usf, he lives aro...</td>\n",
       "    </tr>\n",
       "  </tbody>\n",
       "</table>\n",
       "</div>"
      ],
      "text/plain": [
       "  target                                            message\n",
       "0    ham  Go until jurong point, crazy.. Available only ...\n",
       "1    ham                   Ok lar... Joking wif u oni...   \n",
       "2   spam  Free entry in 2 a wkly comp to win FA Cup fina...\n",
       "3    ham  U dun say so early hor... U c already then say...\n",
       "4    ham  Nah I don't think he goes to usf, he lives aro..."
      ]
     },
     "execution_count": 21,
     "metadata": {},
     "output_type": "execute_result"
    }
   ],
   "source": [
    "df.head()"
   ]
  },
  {
   "cell_type": "code",
   "execution_count": 22,
   "id": "f1cb9b12",
   "metadata": {},
   "outputs": [],
   "source": [
    "df[\"target\"]=df[\"target\"].apply(lambda x:0 if x==\"ham\" else 1)"
   ]
  },
  {
   "cell_type": "code",
   "execution_count": 23,
   "id": "0895561f",
   "metadata": {},
   "outputs": [
    {
     "data": {
      "text/html": [
       "<div>\n",
       "<style scoped>\n",
       "    .dataframe tbody tr th:only-of-type {\n",
       "        vertical-align: middle;\n",
       "    }\n",
       "\n",
       "    .dataframe tbody tr th {\n",
       "        vertical-align: top;\n",
       "    }\n",
       "\n",
       "    .dataframe thead th {\n",
       "        text-align: right;\n",
       "    }\n",
       "</style>\n",
       "<table border=\"1\" class=\"dataframe\">\n",
       "  <thead>\n",
       "    <tr style=\"text-align: right;\">\n",
       "      <th></th>\n",
       "      <th>target</th>\n",
       "      <th>message</th>\n",
       "    </tr>\n",
       "  </thead>\n",
       "  <tbody>\n",
       "    <tr>\n",
       "      <th>0</th>\n",
       "      <td>0</td>\n",
       "      <td>Go until jurong point, crazy.. Available only ...</td>\n",
       "    </tr>\n",
       "    <tr>\n",
       "      <th>1</th>\n",
       "      <td>0</td>\n",
       "      <td>Ok lar... Joking wif u oni...</td>\n",
       "    </tr>\n",
       "    <tr>\n",
       "      <th>2</th>\n",
       "      <td>1</td>\n",
       "      <td>Free entry in 2 a wkly comp to win FA Cup fina...</td>\n",
       "    </tr>\n",
       "    <tr>\n",
       "      <th>3</th>\n",
       "      <td>0</td>\n",
       "      <td>U dun say so early hor... U c already then say...</td>\n",
       "    </tr>\n",
       "    <tr>\n",
       "      <th>4</th>\n",
       "      <td>0</td>\n",
       "      <td>Nah I don't think he goes to usf, he lives aro...</td>\n",
       "    </tr>\n",
       "  </tbody>\n",
       "</table>\n",
       "</div>"
      ],
      "text/plain": [
       "   target                                            message\n",
       "0       0  Go until jurong point, crazy.. Available only ...\n",
       "1       0                   Ok lar... Joking wif u oni...   \n",
       "2       1  Free entry in 2 a wkly comp to win FA Cup fina...\n",
       "3       0  U dun say so early hor... U c already then say...\n",
       "4       0  Nah I don't think he goes to usf, he lives aro..."
      ]
     },
     "execution_count": 23,
     "metadata": {},
     "output_type": "execute_result"
    }
   ],
   "source": [
    "df.head()"
   ]
  },
  {
   "cell_type": "markdown",
   "id": "c3a5b2ec",
   "metadata": {},
   "source": [
    "## EDA"
   ]
  },
  {
   "cell_type": "code",
   "execution_count": 508,
   "id": "78ed0e0f",
   "metadata": {},
   "outputs": [],
   "source": [
    "#df_type_count=df.groupby(\"target\")[\"target\"].count()\n",
    "#df_type_count/(df_type_count[0]+df_type_count[1])*100"
   ]
  },
  {
   "cell_type": "code",
   "execution_count": 24,
   "id": "f6b25b22",
   "metadata": {},
   "outputs": [
    {
     "data": {
      "image/png": "[encoded data removed]",
      "text/plain": [
       "<Figure size 640x480 with 1 Axes>"
      ]
     },
     "metadata": {},
     "output_type": "display_data"
    }
   ],
   "source": [
    "plt.pie(df[\"target\"].value_counts(),labels=[\"ham\",\"spam\"],autopct='%0.2f')\n",
    "plt.title(\"Email classification ratio\")\n",
    "plt.show()"
   ]
  },
  {
   "cell_type": "code",
   "execution_count": 26,
   "id": "21003ade",
   "metadata": {},
   "outputs": [
    {
     "name": "stderr",
     "output_type": "stream",
     "text": [
      "C:\\Users\\Home\\anaconda3\\lib\\site-packages\\scipy\\__init__.py:155: UserWarning: A NumPy version >=1.18.5 and <1.25.0 is required for this version of SciPy (detected version 1.26.0\n",
      "  warnings.warn(f\"A NumPy version >={np_minversion} and <{np_maxversion}\"\n"
     ]
    },
    {
     "data": {
      "image/png": "[encoded data removed]",
      "text/plain": [
       "<Figure size 640x480 with 1 Axes>"
      ]
     },
     "metadata": {},
     "output_type": "display_data"
    }
   ],
   "source": [
    "import seaborn as sns\n",
    "sns.countplot(x=\"target\",data=df)\n",
    "plt.title('Count of Ham and Spam Emails')\n",
    "plt.xlabel('Email Type')\n",
    "plt.ylabel('Count')\n",
    "plt.show()"
   ]
  },
  {
   "cell_type": "code",
   "execution_count": null,
   "id": "ad4adee0",
   "metadata": {},
   "outputs": [],
   "source": [
    "# We will further analyse the emails content to discover any hidden patterns"
   ]
  },
  {
   "cell_type": "code",
   "execution_count": 27,
   "id": "f1f19a41",
   "metadata": {},
   "outputs": [],
   "source": [
    "import nltk\n",
    "from nltk.tokenize import word_tokenize,sent_tokenize"
   ]
  },
  {
   "cell_type": "code",
   "execution_count": 28,
   "id": "f0c27c6b",
   "metadata": {},
   "outputs": [],
   "source": [
    "df[\"Full_message_len\"]=df[\"message\"].apply(len)"
   ]
  },
  {
   "cell_type": "code",
   "execution_count": 29,
   "id": "f53e46c7",
   "metadata": {},
   "outputs": [
    {
     "data": {
      "text/plain": [
       "0    114\n",
       "1     32\n",
       "2    158\n",
       "3     52\n",
       "4     64\n",
       "Name: Full_message_len, dtype: int64"
      ]
     },
     "execution_count": 29,
     "metadata": {},
     "output_type": "execute_result"
    }
   ],
   "source": [
    "df[\"Full_message_len\"].head()"
   ]
  },
  {
   "cell_type": "code",
   "execution_count": 30,
   "id": "59eff8bb",
   "metadata": {},
   "outputs": [],
   "source": [
    "df[\"word_count\"]=df[\"message\"].apply(lambda x:len(nltk.word_tokenize(x)))"
   ]
  },
  {
   "cell_type": "code",
   "execution_count": 31,
   "id": "c09c9277",
   "metadata": {},
   "outputs": [],
   "source": [
    "df[\"sent_count\"]=df[\"message\"].apply(lambda x:len(nltk.sent_tokenize(x)))"
   ]
  },
  {
   "cell_type": "code",
   "execution_count": 32,
   "id": "3632b9c6",
   "metadata": {},
   "outputs": [
    {
     "data": {
      "text/html": [
       "<div>\n",
       "<style scoped>\n",
       "    .dataframe tbody tr th:only-of-type {\n",
       "        vertical-align: middle;\n",
       "    }\n",
       "\n",
       "    .dataframe tbody tr th {\n",
       "        vertical-align: top;\n",
       "    }\n",
       "\n",
       "    .dataframe thead th {\n",
       "        text-align: right;\n",
       "    }\n",
       "</style>\n",
       "<table border=\"1\" class=\"dataframe\">\n",
       "  <thead>\n",
       "    <tr style=\"text-align: right;\">\n",
       "      <th></th>\n",
       "      <th>target</th>\n",
       "      <th>message</th>\n",
       "      <th>Full_message_len</th>\n",
       "      <th>word_count</th>\n",
       "      <th>sent_count</th>\n",
       "    </tr>\n",
       "  </thead>\n",
       "  <tbody>\n",
       "    <tr>\n",
       "      <th>0</th>\n",
       "      <td>0</td>\n",
       "      <td>Go until jurong point, crazy.. Available only ...</td>\n",
       "      <td>114</td>\n",
       "      <td>24</td>\n",
       "      <td>2</td>\n",
       "    </tr>\n",
       "    <tr>\n",
       "      <th>1</th>\n",
       "      <td>0</td>\n",
       "      <td>Ok lar... Joking wif u oni...</td>\n",
       "      <td>32</td>\n",
       "      <td>8</td>\n",
       "      <td>2</td>\n",
       "    </tr>\n",
       "    <tr>\n",
       "      <th>2</th>\n",
       "      <td>1</td>\n",
       "      <td>Free entry in 2 a wkly comp to win FA Cup fina...</td>\n",
       "      <td>158</td>\n",
       "      <td>37</td>\n",
       "      <td>2</td>\n",
       "    </tr>\n",
       "    <tr>\n",
       "      <th>3</th>\n",
       "      <td>0</td>\n",
       "      <td>U dun say so early hor... U c already then say...</td>\n",
       "      <td>52</td>\n",
       "      <td>13</td>\n",
       "      <td>1</td>\n",
       "    </tr>\n",
       "    <tr>\n",
       "      <th>4</th>\n",
       "      <td>0</td>\n",
       "      <td>Nah I don't think he goes to usf, he lives aro...</td>\n",
       "      <td>64</td>\n",
       "      <td>15</td>\n",
       "      <td>1</td>\n",
       "    </tr>\n",
       "  </tbody>\n",
       "</table>\n",
       "</div>"
      ],
      "text/plain": [
       "   target                                            message  \\\n",
       "0       0  Go until jurong point, crazy.. Available only ...   \n",
       "1       0                   Ok lar... Joking wif u oni...      \n",
       "2       1  Free entry in 2 a wkly comp to win FA Cup fina...   \n",
       "3       0  U dun say so early hor... U c already then say...   \n",
       "4       0  Nah I don't think he goes to usf, he lives aro...   \n",
       "\n",
       "   Full_message_len  word_count  sent_count  \n",
       "0               114          24           2  \n",
       "1                32           8           2  \n",
       "2               158          37           2  \n",
       "3                52          13           1  \n",
       "4                64          15           1  "
      ]
     },
     "execution_count": 32,
     "metadata": {},
     "output_type": "execute_result"
    }
   ],
   "source": [
    "df.head()"
   ]
  },
  {
   "cell_type": "code",
   "execution_count": 33,
   "id": "6d781410",
   "metadata": {},
   "outputs": [
    {
     "data": {
      "text/html": [
       "<div>\n",
       "<style scoped>\n",
       "    .dataframe tbody tr th:only-of-type {\n",
       "        vertical-align: middle;\n",
       "    }\n",
       "\n",
       "    .dataframe tbody tr th {\n",
       "        vertical-align: top;\n",
       "    }\n",
       "\n",
       "    .dataframe thead th {\n",
       "        text-align: right;\n",
       "    }\n",
       "</style>\n",
       "<table border=\"1\" class=\"dataframe\">\n",
       "  <thead>\n",
       "    <tr style=\"text-align: right;\">\n",
       "      <th></th>\n",
       "      <th>target</th>\n",
       "      <th>Full_message_len</th>\n",
       "      <th>word_count</th>\n",
       "      <th>sent_count</th>\n",
       "    </tr>\n",
       "  </thead>\n",
       "  <tbody>\n",
       "    <tr>\n",
       "      <th>count</th>\n",
       "      <td>4516.0</td>\n",
       "      <td>4516.000000</td>\n",
       "      <td>4516.000000</td>\n",
       "      <td>4516.000000</td>\n",
       "    </tr>\n",
       "    <tr>\n",
       "      <th>mean</th>\n",
       "      <td>0.0</td>\n",
       "      <td>74.049159</td>\n",
       "      <td>17.270815</td>\n",
       "      <td>1.826395</td>\n",
       "    </tr>\n",
       "    <tr>\n",
       "      <th>std</th>\n",
       "      <td>0.0</td>\n",
       "      <td>56.695775</td>\n",
       "      <td>13.575169</td>\n",
       "      <td>1.392743</td>\n",
       "    </tr>\n",
       "    <tr>\n",
       "      <th>min</th>\n",
       "      <td>0.0</td>\n",
       "      <td>5.000000</td>\n",
       "      <td>1.000000</td>\n",
       "      <td>1.000000</td>\n",
       "    </tr>\n",
       "    <tr>\n",
       "      <th>25%</th>\n",
       "      <td>0.0</td>\n",
       "      <td>37.000000</td>\n",
       "      <td>8.000000</td>\n",
       "      <td>1.000000</td>\n",
       "    </tr>\n",
       "    <tr>\n",
       "      <th>50%</th>\n",
       "      <td>0.0</td>\n",
       "      <td>56.000000</td>\n",
       "      <td>13.000000</td>\n",
       "      <td>1.000000</td>\n",
       "    </tr>\n",
       "    <tr>\n",
       "      <th>75%</th>\n",
       "      <td>0.0</td>\n",
       "      <td>95.000000</td>\n",
       "      <td>22.000000</td>\n",
       "      <td>2.000000</td>\n",
       "    </tr>\n",
       "    <tr>\n",
       "      <th>max</th>\n",
       "      <td>0.0</td>\n",
       "      <td>913.000000</td>\n",
       "      <td>220.000000</td>\n",
       "      <td>38.000000</td>\n",
       "    </tr>\n",
       "  </tbody>\n",
       "</table>\n",
       "</div>"
      ],
      "text/plain": [
       "       target  Full_message_len   word_count   sent_count\n",
       "count  4516.0       4516.000000  4516.000000  4516.000000\n",
       "mean      0.0         74.049159    17.270815     1.826395\n",
       "std       0.0         56.695775    13.575169     1.392743\n",
       "min       0.0          5.000000     1.000000     1.000000\n",
       "25%       0.0         37.000000     8.000000     1.000000\n",
       "50%       0.0         56.000000    13.000000     1.000000\n",
       "75%       0.0         95.000000    22.000000     2.000000\n",
       "max       0.0        913.000000   220.000000    38.000000"
      ]
     },
     "execution_count": 33,
     "metadata": {},
     "output_type": "execute_result"
    }
   ],
   "source": [
    "df[df[\"target\"]==0].describe()"
   ]
  },
  {
   "cell_type": "code",
   "execution_count": 34,
   "id": "af5b169a",
   "metadata": {},
   "outputs": [
    {
     "data": {
      "text/html": [
       "<div>\n",
       "<style scoped>\n",
       "    .dataframe tbody tr th:only-of-type {\n",
       "        vertical-align: middle;\n",
       "    }\n",
       "\n",
       "    .dataframe tbody tr th {\n",
       "        vertical-align: top;\n",
       "    }\n",
       "\n",
       "    .dataframe thead th {\n",
       "        text-align: right;\n",
       "    }\n",
       "</style>\n",
       "<table border=\"1\" class=\"dataframe\">\n",
       "  <thead>\n",
       "    <tr style=\"text-align: right;\">\n",
       "      <th></th>\n",
       "      <th>target</th>\n",
       "      <th>Full_message_len</th>\n",
       "      <th>word_count</th>\n",
       "      <th>sent_count</th>\n",
       "    </tr>\n",
       "  </thead>\n",
       "  <tbody>\n",
       "    <tr>\n",
       "      <th>count</th>\n",
       "      <td>653.0</td>\n",
       "      <td>653.000000</td>\n",
       "      <td>653.000000</td>\n",
       "      <td>653.00000</td>\n",
       "    </tr>\n",
       "    <tr>\n",
       "      <th>mean</th>\n",
       "      <td>1.0</td>\n",
       "      <td>141.163859</td>\n",
       "      <td>27.750383</td>\n",
       "      <td>2.97856</td>\n",
       "    </tr>\n",
       "    <tr>\n",
       "      <th>std</th>\n",
       "      <td>0.0</td>\n",
       "      <td>29.915050</td>\n",
       "      <td>6.978309</td>\n",
       "      <td>1.49010</td>\n",
       "    </tr>\n",
       "    <tr>\n",
       "      <th>min</th>\n",
       "      <td>1.0</td>\n",
       "      <td>16.000000</td>\n",
       "      <td>2.000000</td>\n",
       "      <td>1.00000</td>\n",
       "    </tr>\n",
       "    <tr>\n",
       "      <th>25%</th>\n",
       "      <td>1.0</td>\n",
       "      <td>135.000000</td>\n",
       "      <td>25.000000</td>\n",
       "      <td>2.00000</td>\n",
       "    </tr>\n",
       "    <tr>\n",
       "      <th>50%</th>\n",
       "      <td>1.0</td>\n",
       "      <td>152.000000</td>\n",
       "      <td>29.000000</td>\n",
       "      <td>3.00000</td>\n",
       "    </tr>\n",
       "    <tr>\n",
       "      <th>75%</th>\n",
       "      <td>1.0</td>\n",
       "      <td>160.000000</td>\n",
       "      <td>32.000000</td>\n",
       "      <td>4.00000</td>\n",
       "    </tr>\n",
       "    <tr>\n",
       "      <th>max</th>\n",
       "      <td>1.0</td>\n",
       "      <td>227.000000</td>\n",
       "      <td>46.000000</td>\n",
       "      <td>9.00000</td>\n",
       "    </tr>\n",
       "  </tbody>\n",
       "</table>\n",
       "</div>"
      ],
      "text/plain": [
       "       target  Full_message_len  word_count  sent_count\n",
       "count   653.0        653.000000  653.000000   653.00000\n",
       "mean      1.0        141.163859   27.750383     2.97856\n",
       "std       0.0         29.915050    6.978309     1.49010\n",
       "min       1.0         16.000000    2.000000     1.00000\n",
       "25%       1.0        135.000000   25.000000     2.00000\n",
       "50%       1.0        152.000000   29.000000     3.00000\n",
       "75%       1.0        160.000000   32.000000     4.00000\n",
       "max       1.0        227.000000   46.000000     9.00000"
      ]
     },
     "execution_count": 34,
     "metadata": {},
     "output_type": "execute_result"
    }
   ],
   "source": [
    "df[df[\"target\"]==1].describe()"
   ]
  },
  {
   "cell_type": "code",
   "execution_count": null,
   "id": "5fedfc57",
   "metadata": {},
   "outputs": [],
   "source": [
    "# it is an imbalanced dataset.We will take care while evaluating by choosing the right metric."
   ]
  },
  {
   "cell_type": "code",
   "execution_count": 394,
   "id": "6ec4ced0",
   "metadata": {},
   "outputs": [],
   "source": [
    "#df_cat_count.plot(kind='bar',figsize=(6,4),title=\"distribution of emails\",xlabel=\"email cetgory\",ylabel=\"count\")\n"
   ]
  },
  {
   "cell_type": "code",
   "execution_count": 35,
   "id": "d9b71081",
   "metadata": {},
   "outputs": [],
   "source": [
    "ham_emails=df[df[\"target\"]==0]\n",
    "spam_emails=df[df[\"target\"]==1]"
   ]
  },
  {
   "cell_type": "code",
   "execution_count": 36,
   "id": "bca6945c",
   "metadata": {},
   "outputs": [
    {
     "data": {
      "image/png": "[encoded data removed]",
      "text/plain": [
       "<Figure size 600x400 with 1 Axes>"
      ]
     },
     "metadata": {},
     "output_type": "display_data"
    }
   ],
   "source": [
    "plt.figure(figsize=(6, 4))\n",
    "plt.hist(ham_emails['Full_message_len'], bins=20, color='blue', label='Ham')\n",
    "plt.hist(spam_emails['Full_message_len'], bins=20, color='red', label='Spam')\n",
    "plt.xlabel('Message Length')\n",
    "plt.ylabel('Frequency')\n",
    "plt.title('Message Length Distribution of Ham and Spam Emails')\n",
    "plt.legend()\n",
    "plt.grid(True)\n",
    "plt.show()\n"
   ]
  },
  {
   "cell_type": "code",
   "execution_count": 37,
   "id": "d4a01d59",
   "metadata": {},
   "outputs": [
    {
     "data": {
      "image/png": "[encoded data removed]",
      "text/plain": [
       "<Figure size 600x400 with 1 Axes>"
      ]
     },
     "metadata": {},
     "output_type": "display_data"
    }
   ],
   "source": [
    "plt.figure(figsize=(6, 4))\n",
    "plt.hist(ham_emails['word_count'], bins=20, color='blue',alpha=0.5, label='Ham')\n",
    "plt.hist(spam_emails['word_count'], bins=20, color='red',alpha=0.5, label='Spam')\n",
    "plt.xlabel('Message Length')\n",
    "plt.ylabel('Frequency')\n",
    "plt.title('Message Length Distribution of Ham and Spam Emails')\n",
    "plt.legend()\n",
    "plt.grid(True)\n",
    "plt.show()"
   ]
  },
  {
   "cell_type": "code",
   "execution_count": 38,
   "id": "87d11ee2",
   "metadata": {},
   "outputs": [
    {
     "data": {
      "image/png": "[encoded data removed]",
      "text/plain": [
       "<Figure size 600x400 with 1 Axes>"
      ]
     },
     "metadata": {},
     "output_type": "display_data"
    }
   ],
   "source": [
    "plt.figure(figsize=(6, 4))\n",
    "plt.hist(ham_emails['sent_count'], bins=20, color='blue',alpha=0.5, label='Ham')\n",
    "plt.hist(spam_emails['sent_count'], bins=20, color='red',alpha=0.5, label='Spam')\n",
    "plt.xlabel('sentences')\n",
    "plt.ylabel('Frequency')\n",
    "plt.title('No. of sentences in Ham and Spam Emails')\n",
    "plt.legend()\n",
    "plt.grid(True)\n",
    "plt.show()"
   ]
  },
  {
   "cell_type": "code",
   "execution_count": 39,
   "id": "5ea863f9",
   "metadata": {},
   "outputs": [
    {
     "data": {
      "text/html": [
       "<div>\n",
       "<style scoped>\n",
       "    .dataframe tbody tr th:only-of-type {\n",
       "        vertical-align: middle;\n",
       "    }\n",
       "\n",
       "    .dataframe tbody tr th {\n",
       "        vertical-align: top;\n",
       "    }\n",
       "\n",
       "    .dataframe thead th {\n",
       "        text-align: right;\n",
       "    }\n",
       "</style>\n",
       "<table border=\"1\" class=\"dataframe\">\n",
       "  <thead>\n",
       "    <tr style=\"text-align: right;\">\n",
       "      <th></th>\n",
       "      <th>target</th>\n",
       "      <th>message</th>\n",
       "      <th>Full_message_len</th>\n",
       "      <th>word_count</th>\n",
       "      <th>sent_count</th>\n",
       "    </tr>\n",
       "  </thead>\n",
       "  <tbody>\n",
       "    <tr>\n",
       "      <th>0</th>\n",
       "      <td>0</td>\n",
       "      <td>Go until jurong point, crazy.. Available only ...</td>\n",
       "      <td>114</td>\n",
       "      <td>24</td>\n",
       "      <td>2</td>\n",
       "    </tr>\n",
       "    <tr>\n",
       "      <th>1</th>\n",
       "      <td>0</td>\n",
       "      <td>Ok lar... Joking wif u oni...</td>\n",
       "      <td>32</td>\n",
       "      <td>8</td>\n",
       "      <td>2</td>\n",
       "    </tr>\n",
       "    <tr>\n",
       "      <th>2</th>\n",
       "      <td>1</td>\n",
       "      <td>Free entry in 2 a wkly comp to win FA Cup fina...</td>\n",
       "      <td>158</td>\n",
       "      <td>37</td>\n",
       "      <td>2</td>\n",
       "    </tr>\n",
       "    <tr>\n",
       "      <th>3</th>\n",
       "      <td>0</td>\n",
       "      <td>U dun say so early hor... U c already then say...</td>\n",
       "      <td>52</td>\n",
       "      <td>13</td>\n",
       "      <td>1</td>\n",
       "    </tr>\n",
       "    <tr>\n",
       "      <th>4</th>\n",
       "      <td>0</td>\n",
       "      <td>Nah I don't think he goes to usf, he lives aro...</td>\n",
       "      <td>64</td>\n",
       "      <td>15</td>\n",
       "      <td>1</td>\n",
       "    </tr>\n",
       "  </tbody>\n",
       "</table>\n",
       "</div>"
      ],
      "text/plain": [
       "   target                                            message  \\\n",
       "0       0  Go until jurong point, crazy.. Available only ...   \n",
       "1       0                   Ok lar... Joking wif u oni...      \n",
       "2       1  Free entry in 2 a wkly comp to win FA Cup fina...   \n",
       "3       0  U dun say so early hor... U c already then say...   \n",
       "4       0  Nah I don't think he goes to usf, he lives aro...   \n",
       "\n",
       "   Full_message_len  word_count  sent_count  \n",
       "0               114          24           2  \n",
       "1                32           8           2  \n",
       "2               158          37           2  \n",
       "3                52          13           1  \n",
       "4                64          15           1  "
      ]
     },
     "execution_count": 39,
     "metadata": {},
     "output_type": "execute_result"
    }
   ],
   "source": [
    "df.head()"
   ]
  },
  {
   "cell_type": "code",
   "execution_count": 40,
   "id": "ceb056c3",
   "metadata": {},
   "outputs": [
    {
     "data": {
      "text/plain": [
       "<AxesSubplot:>"
      ]
     },
     "execution_count": 40,
     "metadata": {},
     "output_type": "execute_result"
    },
    {
     "data": {
      "image/png": "[encoded data removed]",
      "text/plain": [
       "<Figure size 640x480 with 2 Axes>"
      ]
     },
     "metadata": {},
     "output_type": "display_data"
    }
   ],
   "source": [
    "sns.heatmap(df.corr(),annot=True)"
   ]
  },
  {
   "cell_type": "code",
   "execution_count": null,
   "id": "999f847f",
   "metadata": {},
   "outputs": [],
   "source": [
    "#relation of target with message length is significant.\n",
    "#since message length and number of words and sentences are co-related strongly we will use message length if needed for prediction and drop other two."
   ]
  },
  {
   "cell_type": "markdown",
   "id": "43e718e4",
   "metadata": {},
   "source": [
    "# Data Pre-processing"
   ]
  },
  {
   "cell_type": "markdown",
   "id": "eca956c4",
   "metadata": {},
   "source": [
    "1.Lowercase\n",
    "2.Tokenization.\n",
    "3.Removing special chars\n",
    "4.Removing stop words and punctuations\n",
    "5.Stemming"
   ]
  },
  {
   "cell_type": "markdown",
   "id": "c421222e",
   "metadata": {},
   "source": [
    "### Cleaning the corpus"
   ]
  },
  {
   "cell_type": "code",
   "execution_count": 41,
   "id": "aab02384",
   "metadata": {},
   "outputs": [
    {
     "data": {
      "text/plain": [
       "Index(['target', 'message', 'Full_message_len', 'word_count', 'sent_count'], dtype='object')"
      ]
     },
     "execution_count": 41,
     "metadata": {},
     "output_type": "execute_result"
    }
   ],
   "source": [
    "df.columns"
   ]
  },
  {
   "cell_type": "code",
   "execution_count": 42,
   "id": "5fa43885",
   "metadata": {},
   "outputs": [
    {
     "data": {
      "text/plain": [
       "array(['Okay name ur price as long as its legal! Wen can I pick them up? Y u ave x ams xx   ',\n",
       "       \"I'm still looking for a car to buy. And have not gone 4the driving test yet.   \",\n",
       "       \"wow. You're right! I didn't mean to do that. I guess once i gave up on boston men and changed my search location to nyc, something changed. Cuz on my signin page it still says boston.   \",\n",
       "       'Umma my life and vava umma love you lot dear   ',\n",
       "       'Thanks a lot for your wishes on my birthday. Thanks you for making my birthday truly memorable.   ',\n",
       "       \"Aight, I'll hit you up when I get some cash   \",\n",
       "       \"How would my ip address test that considering my computer isn't a minecraft server   \",\n",
       "       'I know! Grumpy old people. My mom was like you better not be lying. Then again I am always the one to play jokes...   ',\n",
       "       \"Dont worry. I guess he's busy.   \",\n",
       "       'What is the plural of the noun research?   ',\n",
       "       'Going for dinner.msg you after.   ',\n",
       "       \"I'm ok wif it cos i like 2 try new things. But i scared u dun like mah. Cos u said not too loud.   \",\n",
       "       'GENT! We are trying to contact you. Last weekends draw shows that you won a å£1000 prize GUARANTEED. Call 09064012160. Claim Code K52. Valid 12hrs only. 150ppm   ',\n",
       "       \"Wa, ur openin sentence very formal... Anyway, i'm fine too, juz tt i'm eatin too much n puttin on weight...Haha... So anythin special happened?   \",\n",
       "       \"As I entered my cabin my PA said, '' Happy B'day Boss !!''. I felt special. She askd me 4 lunch. After lunch she invited me to her apartment. We went there.   \",\n",
       "       'You are a winner U have been specially selected 2 receive å£1000 or a 4* holiday (flights inc) speak to a live operator 2 claim 0871277810910p/min (18+)    ',\n",
       "       'Goodo! Yes we must speak friday - egg-potato ratio for tortilla needed!    ',\n",
       "       \"Hmm...my uncle just informed me that he's paying the school directly. So pls buy food.   \",\n",
       "       'PRIVATE! Your 2004 Account Statement for 07742676969 shows 786 unredeemed Bonus Points. To claim call 08719180248 Identifier Code: 45239 Expires   ',\n",
       "       'URGENT! Your Mobile No. was awarded å£2000 Bonus Caller Prize on 5/9/03 This is our final try to contact U! Call from Landline 09064019788 BOX42WR29C, 150PPM   ',\n",
       "       'here is my new address -apples&pairs&all that malarky   ',\n",
       "       'Todays Voda numbers ending 7548 are selected to receive a $350 award. If you have a match please call 08712300220 quoting claim code 4041 standard rates app   ',\n",
       "       'I am going to sao mu today. Will be done only at 12    ',\n",
       "       \"ÌÏ predict wat time Ì_'ll finish buying?   \",\n",
       "       'Good stuff, will do.   ',\n",
       "       \"Just so that you know,yetunde hasn't sent money yet. I just sent her a text not to bother sending. So its over, you dont have to involve yourself in anything. I shouldn't have imposed anything on you in the first place so for that, i apologise.   \",\n",
       "       'Are you there in room.   ',\n",
       "       'HEY GIRL. HOW R U? HOPE U R WELL ME AN DEL R BAK! AGAIN LONG TIME NO C! GIVE ME A CALL SUM TIME FROM LUCYxx   ',\n",
       "       'K..k:)how much does it cost?   ', \"I'm home.   \",\n",
       "       'Dear, will call Tmorrow.pls accomodate.   ',\n",
       "       'First answer my question.   ',\n",
       "       'Sunshine Quiz Wkly Q! Win a top Sony DVD player if u know which country the Algarve is in? Txt ansr to 82277. å£1.50 SP:Tyrone   ',\n",
       "       \"Want 2 get laid tonight? Want real Dogging locations sent direct 2 ur mob? Join the UK's largest Dogging Network bt Txting GRAVEL to 69888! Nt. ec2a. 31p.msg@150p   \",\n",
       "       \"I only haf msn. It's yijue@hotmail.com   \",\n",
       "       'He is there. You call and meet him   ',\n",
       "       'No no. I will check all rooms befor activities   ',\n",
       "       \"You'll not rcv any more msgs from the chat svc. For FREE Hardcore services text GO to: 69988 If u get nothing u must Age Verify with yr network & try again   \",\n",
       "       'Got c... I lazy to type... I forgot Ì_ in lect... I saw a pouch but like not v nice...   ',\n",
       "       \"K, text me when you're on the way   \",\n",
       "       'Sir, Waiting for your mail.   ',\n",
       "       'A swt thought: \\\\Nver get tired of doing little things 4 lovable persons..\\\\\" Coz..somtimes those little things occupy d biggest part in their Hearts.. Gud ni8\"   ',\n",
       "       'I know you are. Can you pls open the back?   ',\n",
       "       'Yes see ya not on the dot   ',\n",
       "       'Whats the staff name who is taking class for us?   ',\n",
       "       \"FreeMsg Why haven't you replied to my text? I'm Randy, sexy, female and live local. Luv to hear from u. Netcollex Ltd 08700621170150p per msg reply Stop to end   \",\n",
       "       'Ummma.will call after check in.our life will begin from qatar so pls pray very hard.   ',\n",
       "       'K..i deleted my contact that why?   ',\n",
       "       'Sindu got job in birla soft ..   ',\n",
       "       \"The wine is flowing and i'm i have nevering..   \"], dtype=object)"
      ]
     },
     "execution_count": 42,
     "metadata": {},
     "output_type": "execute_result"
    }
   ],
   "source": [
    "df[\"message\"][100:150].values"
   ]
  },
  {
   "cell_type": "markdown",
   "id": "e3497f89",
   "metadata": {},
   "source": [
    "## Apply Text pre-processing steps:\n",
    "\n",
    "1. Lower Casing\n",
    "2. Tokenization\n",
    "3. Stop Word Removal\n",
    "4. Stemming/Lemmatization\n"
   ]
  },
  {
   "cell_type": "code",
   "execution_count": 95,
   "id": "539a89eb",
   "metadata": {},
   "outputs": [],
   "source": [
    "import nltk\n",
    "from nltk.corpus import stopwords\n",
    "from nltk.stem import WordNetLemmatizer\n",
    "\n",
    "def pre_process_text(text):\n",
    "    #Lower Casing\n",
    "    text=text.lower()\n",
    "    \n",
    "    #Tokenizing the senetence using nltk tokenizer\n",
    "    tokenizer=nltk.RegexpTokenizer(r'[^\\W\\d_]+')\n",
    "    text_tokens=tokenizer.tokenize(text)\n",
    "    \n",
    "    #Remove stopwords\n",
    "    stop_words=stopwords.words('english')\n",
    "    more_stopwords = ['u', 'im', 'c','ur']\n",
    "    stop_words = stop_words + more_stopwords\n",
    "    text_no_stopword_tokens=[t for t in text_tokens if t not in stop_words]\n",
    "    \n",
    "    #Lemmatize\n",
    "    Lemmatizer=WordNetLemmatizer()\n",
    "    text_tokens_lematized=[Lemmatizer.lemmatize(t) for t in text_no_stopword_tokens]\n",
    "    \n",
    "    return ' '.join(text_tokens_lematized)\n"
   ]
  },
  {
   "cell_type": "code",
   "execution_count": 94,
   "id": "0551e516",
   "metadata": {},
   "outputs": [
    {
     "name": "stdout",
     "output_type": "stream",
     "text": [
      "['hey', 'i', 'am', 'surprised', 'but', 'what', 'is', 'the', 'matter', 'with', 'you', 'https', 'click', 'astro', 'com']\n",
      "['hey', 'surprised', 'matter', 'https', 'click', 'astro', 'com']\n",
      "hey surprised matter http click astro com\n"
     ]
    }
   ],
   "source": [
    "# text=\"Hey! I am surprised ,,but what is the 2 *matter with you <https://click.astro.com>\"\n",
    "# text=text.lower()\n",
    "\n",
    "# tokenizer=nltk.RegexpTokenizer(r'[^\\W\\d_]+')\n",
    "# tokens=tokenizer.tokenize(text)\n",
    "# print(tokens)\n",
    "\n",
    "# stop_words=stopwords.words('english')\n",
    "# more_stopwords = ['u', 'im', 'c','ur']\n",
    "# stop_words = stop_words + more_stopwords\n",
    "# text_no_stopword_tokens=[t for t in tokens if t not in stop_words]\n",
    "# print(text_no_stopword_tokens)\n",
    "\n",
    "# Lemmatizer=WordNetLemmatizer()\n",
    "# text_tokens_lematized=[Lemmatizer.lemmatize(t) for t in text_no_stopword_tokens]\n",
    "\n",
    "# print(' '.join(text_tokens_lematized))"
   ]
  },
  {
   "cell_type": "markdown",
   "id": "a3cc3662",
   "metadata": {},
   "source": [
    "##### Calling pre-processing function"
   ]
  },
  {
   "cell_type": "code",
   "execution_count": 96,
   "id": "e2e55a3f",
   "metadata": {},
   "outputs": [],
   "source": [
    "df[\"message_clean\"]=df[\"message\"].apply(pre_process_text)"
   ]
  },
  {
   "cell_type": "code",
   "execution_count": 97,
   "id": "cd762afe",
   "metadata": {},
   "outputs": [
    {
     "data": {
      "text/html": [
       "<div>\n",
       "<style scoped>\n",
       "    .dataframe tbody tr th:only-of-type {\n",
       "        vertical-align: middle;\n",
       "    }\n",
       "\n",
       "    .dataframe tbody tr th {\n",
       "        vertical-align: top;\n",
       "    }\n",
       "\n",
       "    .dataframe thead th {\n",
       "        text-align: right;\n",
       "    }\n",
       "</style>\n",
       "<table border=\"1\" class=\"dataframe\">\n",
       "  <thead>\n",
       "    <tr style=\"text-align: right;\">\n",
       "      <th></th>\n",
       "      <th>target</th>\n",
       "      <th>message</th>\n",
       "      <th>Full_message_len</th>\n",
       "      <th>word_count</th>\n",
       "      <th>sent_count</th>\n",
       "      <th>message_clean</th>\n",
       "    </tr>\n",
       "  </thead>\n",
       "  <tbody>\n",
       "    <tr>\n",
       "      <th>0</th>\n",
       "      <td>0</td>\n",
       "      <td>Go until jurong point, crazy.. Available only ...</td>\n",
       "      <td>114</td>\n",
       "      <td>24</td>\n",
       "      <td>2</td>\n",
       "      <td>go jurong point crazy available bugis n great ...</td>\n",
       "    </tr>\n",
       "    <tr>\n",
       "      <th>1</th>\n",
       "      <td>0</td>\n",
       "      <td>Ok lar... Joking wif u oni...</td>\n",
       "      <td>32</td>\n",
       "      <td>8</td>\n",
       "      <td>2</td>\n",
       "      <td>ok lar joking wif oni</td>\n",
       "    </tr>\n",
       "    <tr>\n",
       "      <th>2</th>\n",
       "      <td>1</td>\n",
       "      <td>Free entry in 2 a wkly comp to win FA Cup fina...</td>\n",
       "      <td>158</td>\n",
       "      <td>37</td>\n",
       "      <td>2</td>\n",
       "      <td>free entry wkly comp win fa cup final tkts st ...</td>\n",
       "    </tr>\n",
       "    <tr>\n",
       "      <th>3</th>\n",
       "      <td>0</td>\n",
       "      <td>U dun say so early hor... U c already then say...</td>\n",
       "      <td>52</td>\n",
       "      <td>13</td>\n",
       "      <td>1</td>\n",
       "      <td>dun say early hor already say</td>\n",
       "    </tr>\n",
       "    <tr>\n",
       "      <th>4</th>\n",
       "      <td>0</td>\n",
       "      <td>Nah I don't think he goes to usf, he lives aro...</td>\n",
       "      <td>64</td>\n",
       "      <td>15</td>\n",
       "      <td>1</td>\n",
       "      <td>nah think go usf life around though</td>\n",
       "    </tr>\n",
       "  </tbody>\n",
       "</table>\n",
       "</div>"
      ],
      "text/plain": [
       "   target                                            message  \\\n",
       "0       0  Go until jurong point, crazy.. Available only ...   \n",
       "1       0                   Ok lar... Joking wif u oni...      \n",
       "2       1  Free entry in 2 a wkly comp to win FA Cup fina...   \n",
       "3       0  U dun say so early hor... U c already then say...   \n",
       "4       0  Nah I don't think he goes to usf, he lives aro...   \n",
       "\n",
       "   Full_message_len  word_count  sent_count  \\\n",
       "0               114          24           2   \n",
       "1                32           8           2   \n",
       "2               158          37           2   \n",
       "3                52          13           1   \n",
       "4                64          15           1   \n",
       "\n",
       "                                       message_clean  \n",
       "0  go jurong point crazy available bugis n great ...  \n",
       "1                              ok lar joking wif oni  \n",
       "2  free entry wkly comp win fa cup final tkts st ...  \n",
       "3                      dun say early hor already say  \n",
       "4                nah think go usf life around though  "
      ]
     },
     "execution_count": 97,
     "metadata": {},
     "output_type": "execute_result"
    }
   ],
   "source": [
    "df.head()"
   ]
  },
  {
   "cell_type": "markdown",
   "id": "494c88d1",
   "metadata": {},
   "source": [
    "#  wordcloud"
   ]
  },
  {
   "cell_type": "code",
   "execution_count": null,
   "id": "0547b12c",
   "metadata": {},
   "outputs": [],
   "source": []
  },
  {
   "cell_type": "code",
   "execution_count": 98,
   "id": "69edbc67",
   "metadata": {},
   "outputs": [],
   "source": [
    "df_ham_1=df[df[\"target\"]==0][\"message_clean\"]\n",
    "df_spam_1=df[df[\"target\"]==1][\"message_clean\"]"
   ]
  },
  {
   "cell_type": "code",
   "execution_count": 99,
   "id": "18f15049",
   "metadata": {},
   "outputs": [],
   "source": [
    "df_ham_text=' '.join(df_ham_1)\n",
    "df_spam_text=' '.join(df_spam_1)"
   ]
  },
  {
   "cell_type": "code",
   "execution_count": 100,
   "id": "d68b6efe",
   "metadata": {},
   "outputs": [
    {
     "data": {
      "image/png": "[encoded data removed]",
      "text/plain": [
       "<Figure size 1200x600 with 2 Axes>"
      ]
     },
     "metadata": {},
     "output_type": "display_data"
    }
   ],
   "source": [
    "from wordcloud import WordCloud\n",
    "ham_wordcloud = WordCloud(width=800, height=400, background_color='white').generate(df_ham_text)\n",
    "spam_wordcloud = WordCloud(width=800, height=400, background_color='white').generate(df_spam_text)\n",
    "plt.figure(figsize=(12, 6))\n",
    "plt.subplot(1, 2, 1)\n",
    "plt.imshow(ham_wordcloud, interpolation='bilinear')\n",
    "plt.title('Ham Words')\n",
    "plt.axis('off')\n",
    "\n",
    "plt.subplot(1, 2, 2)\n",
    "plt.imshow(spam_wordcloud, interpolation='bilinear')\n",
    "plt.title('Spam Words')\n",
    "plt.axis('off')\n",
    "\n",
    "plt.show()"
   ]
  },
  {
   "cell_type": "code",
   "execution_count": 101,
   "id": "07f306b9",
   "metadata": {},
   "outputs": [],
   "source": [
    "#Let us check out the top n most commonly occuring words in the entire corpus of documents\n",
    "def Top_occ(text,n):\n",
    "    from collections import Counter\n",
    "    tok_email=nltk.word_tokenize(text)\n",
    "    \n",
    "    return Counter(tok_email).most_common(n)"
   ]
  },
  {
   "cell_type": "code",
   "execution_count": 106,
   "id": "945c548b",
   "metadata": {},
   "outputs": [],
   "source": [
    "top_occ_ham=Top_occ(df_ham_text,10)\n",
    "top_occ_spam=Top_occ(df_spam_text,10)"
   ]
  },
  {
   "cell_type": "code",
   "execution_count": 103,
   "id": "709b7c0c",
   "metadata": {},
   "outputs": [
    {
     "data": {
      "text/plain": [
       "[('get', 312),\n",
       " ('gt', 288),\n",
       " ('lt', 287),\n",
       " ('go', 275),\n",
       " ('ok', 256),\n",
       " ('got', 240),\n",
       " ('know', 234),\n",
       " ('come', 230),\n",
       " ('like', 227),\n",
       " ('time', 220)]"
      ]
     },
     "execution_count": 103,
     "metadata": {},
     "output_type": "execute_result"
    }
   ],
   "source": [
    "top_occ_ham"
   ]
  },
  {
   "cell_type": "code",
   "execution_count": 105,
   "id": "58786280",
   "metadata": {},
   "outputs": [
    {
     "data": {
      "text/plain": [
       "<AxesSubplot:xlabel='0', ylabel='1'>"
      ]
     },
     "execution_count": 105,
     "metadata": {},
     "output_type": "execute_result"
    },
    {
     "data": {
      "image/png": "[encoded data removed]",
      "text/plain": [
       "<Figure size 640x480 with 1 Axes>"
      ]
     },
     "metadata": {},
     "output_type": "display_data"
    }
   ],
   "source": [
    "sns.barplot(x=pd.DataFrame(top_occ_ham)[0],y=pd.DataFrame(top_occ_ham)[1])"
   ]
  },
  {
   "cell_type": "code",
   "execution_count": 107,
   "id": "a54e32d4",
   "metadata": {},
   "outputs": [
    {
     "data": {
      "text/plain": [
       "<AxesSubplot:xlabel='0', ylabel='1'>"
      ]
     },
     "execution_count": 107,
     "metadata": {},
     "output_type": "execute_result"
    },
    {
     "data": {
      "image/png": "[encoded data removed]",
      "text/plain": [
       "<Figure size 640x480 with 1 Axes>"
      ]
     },
     "metadata": {},
     "output_type": "display_data"
    }
   ],
   "source": [
    "sns.barplot(x=pd.DataFrame(top_occ_spam)[0],y=pd.DataFrame(top_occ_spam)[1])"
   ]
  },
  {
   "cell_type": "code",
   "execution_count": 458,
   "id": "2fba6c54",
   "metadata": {},
   "outputs": [],
   "source": [
    "#sorted_words_top = sorted(top_occ.items(), key=lambda x: x[1], reverse=True)"
   ]
  },
  {
   "cell_type": "markdown",
   "id": "20c984d5",
   "metadata": {},
   "source": [
    "# MODEL BUILDING"
   ]
  },
  {
   "cell_type": "code",
   "execution_count": null,
   "id": "c27ee7d3",
   "metadata": {},
   "outputs": [],
   "source": [
    "#Train Test split\n",
    "#Bag-of-words using count Vectorizer\n",
    "#Encoding-Tf-idf/Normalisation\n",
    "#Model training\n",
    "#Evaluation"
   ]
  },
  {
   "cell_type": "markdown",
   "id": "145c10d1",
   "metadata": {},
   "source": [
    "# Model Building"
   ]
  },
  {
   "cell_type": "code",
   "execution_count": 117,
   "id": "3828e556",
   "metadata": {},
   "outputs": [],
   "source": [
    "from sklearn.feature_extraction.text import CountVectorizer,TfidfVectorizer\n",
    "from sklearn.naive_bayes import MultinomialNB,GaussianNB,BernoulliNB\n",
    "from sklearn.metrics import accuracy_score,confusion_matrix,precision_score,classification_report\n",
    "mnb = MultinomialNB()\n",
    "gnb=GaussianNB()\n",
    "bnb=BernoulliNB()\n",
    "\n"
   ]
  },
  {
   "cell_type": "markdown",
   "id": "f1b471a0",
   "metadata": {},
   "source": [
    "### Train test split"
   ]
  },
  {
   "cell_type": "code",
   "execution_count": 118,
   "id": "d368e615",
   "metadata": {},
   "outputs": [],
   "source": [
    "from sklearn.model_selection import train_test_split"
   ]
  },
  {
   "cell_type": "code",
   "execution_count": 119,
   "id": "e0739fa4",
   "metadata": {},
   "outputs": [],
   "source": [
    "X=df[\"message_clean\"]\n",
    "y=df[\"target\"]"
   ]
  },
  {
   "cell_type": "code",
   "execution_count": 120,
   "id": "63316b12",
   "metadata": {},
   "outputs": [],
   "source": [
    "X_train,X_test,y_train,y_test=train_test_split(X,y,random_state=40,stratify=y)"
   ]
  },
  {
   "cell_type": "code",
   "execution_count": 223,
   "id": "369b6bea",
   "metadata": {},
   "outputs": [
    {
     "data": {
      "text/plain": [
       "pandas.core.series.Series"
      ]
     },
     "execution_count": 223,
     "metadata": {},
     "output_type": "execute_result"
    }
   ],
   "source": [
    "type(X_train)"
   ]
  },
  {
   "cell_type": "code",
   "execution_count": 135,
   "id": "4355151c",
   "metadata": {},
   "outputs": [
    {
     "data": {
      "text/plain": [
       "1517    brand new mobile music service live free music...\n",
       "410                     come room point iron plan weekend\n",
       "4003    well pattern emerging friend telling drive com...\n",
       "4703                                    yar say got error\n",
       "1337                             buying today ìï need meh\n",
       "Name: message_clean, dtype: object"
      ]
     },
     "execution_count": 135,
     "metadata": {},
     "output_type": "execute_result"
    }
   ],
   "source": [
    "X_train.head()"
   ]
  },
  {
   "cell_type": "code",
   "execution_count": 121,
   "id": "a0f379ab",
   "metadata": {},
   "outputs": [
    {
     "name": "stdout",
     "output_type": "stream",
     "text": [
      "(3876,)   (1293,)   (3876,)   (1293,)\n"
     ]
    }
   ],
   "source": [
    "print(X_train.shape,' ',X_test.shape,' ',y_train.shape,' ',y_test.shape)"
   ]
  },
  {
   "cell_type": "code",
   "execution_count": 122,
   "id": "751fb276",
   "metadata": {},
   "outputs": [
    {
     "data": {
      "text/plain": [
       "0    0.873581\n",
       "1    0.126419\n",
       "Name: target, dtype: float64"
      ]
     },
     "execution_count": 122,
     "metadata": {},
     "output_type": "execute_result"
    }
   ],
   "source": [
    "y_train.value_counts(normalize=True)"
   ]
  },
  {
   "cell_type": "code",
   "execution_count": 123,
   "id": "896c2eba",
   "metadata": {},
   "outputs": [
    {
     "data": {
      "text/plain": [
       "1038    0\n",
       "3066    0\n",
       "2054    0\n",
       "3180    0\n",
       "2785    0\n",
       "Name: target, dtype: int64"
      ]
     },
     "execution_count": 123,
     "metadata": {},
     "output_type": "execute_result"
    }
   ],
   "source": [
    "y_test.head()"
   ]
  },
  {
   "cell_type": "markdown",
   "id": "fb06a8eb",
   "metadata": {},
   "source": [
    "### Count Vectorisation"
   ]
  },
  {
   "cell_type": "code",
   "execution_count": 124,
   "id": "21f6aa3d",
   "metadata": {},
   "outputs": [],
   "source": [
    "cv=CountVectorizer()"
   ]
  },
  {
   "cell_type": "code",
   "execution_count": 125,
   "id": "958510db",
   "metadata": {},
   "outputs": [
    {
     "data": {
      "text/plain": [
       "CountVectorizer()"
      ]
     },
     "execution_count": 125,
     "metadata": {},
     "output_type": "execute_result"
    }
   ],
   "source": [
    "cv.fit(X_train)"
   ]
  },
  {
   "cell_type": "code",
   "execution_count": 126,
   "id": "0fc80ead",
   "metadata": {},
   "outputs": [],
   "source": [
    "x_train_vec = cv.transform(X_train).toarray()\n",
    "x_test_vec = cv.transform(X_test).toarray()"
   ]
  },
  {
   "cell_type": "code",
   "execution_count": 134,
   "id": "dc59102c",
   "metadata": {},
   "outputs": [
    {
     "data": {
      "text/plain": [
       "array([[0, 0, 0, ..., 0, 0, 0],\n",
       "       [0, 0, 0, ..., 0, 0, 0],\n",
       "       [0, 0, 0, ..., 0, 0, 0],\n",
       "       ...,\n",
       "       [0, 0, 0, ..., 0, 0, 0],\n",
       "       [0, 0, 0, ..., 0, 0, 0],\n",
       "       [0, 0, 0, ..., 0, 0, 0]], dtype=int64)"
      ]
     },
     "execution_count": 134,
     "metadata": {},
     "output_type": "execute_result"
    }
   ],
   "source": [
    "x_train_vec"
   ]
  },
  {
   "cell_type": "code",
   "execution_count": 132,
   "id": "dd8de8c2",
   "metadata": {},
   "outputs": [
    {
     "data": {
      "text/plain": [
       "[('brand', 627),\n",
       " ('new', 3487),\n",
       " ('mobile', 3312),\n",
       " ('music', 3410),\n",
       " ('service', 4616),\n",
       " ('live', 2987),\n",
       " ('free', 1978),\n",
       " ('player', 3920),\n",
       " ('arrive', 290),\n",
       " ('shortly', 4693),\n",
       " ('install', 2593),\n",
       " ('phone', 3873),\n",
       " ('browse', 672),\n",
       " ('content', 1070),\n",
       " ('top', 5425),\n",
       " ('artist', 294),\n",
       " ('come', 1002),\n",
       " ('room', 4438),\n",
       " ('point', 3947),\n",
       " ('iron', 2637)]"
      ]
     },
     "execution_count": 132,
     "metadata": {},
     "output_type": "execute_result"
    }
   ],
   "source": [
    "#Let us check out few of the vocabulory built along with their index numbers\n",
    "list(cv.vocabulary_.items())[0:20]"
   ]
  },
  {
   "cell_type": "code",
   "execution_count": 138,
   "id": "8d7a09bc",
   "metadata": {},
   "outputs": [
    {
     "data": {
      "text/plain": [
       "array(['brand new mobile music service live free music player arrive shortly install phone browse content top artist',\n",
       "       'come room point iron plan weekend',\n",
       "       'well pattern emerging friend telling drive come smoke telling weed fiend make smoke much impede thing see hesitant',\n",
       "       'yar say got error', 'buying today ìï need meh'], dtype=object)"
      ]
     },
     "execution_count": 138,
     "metadata": {},
     "output_type": "execute_result"
    }
   ],
   "source": [
    "X_train.head().values"
   ]
  },
  {
   "cell_type": "code",
   "execution_count": 136,
   "id": "7ebba0d2",
   "metadata": {},
   "outputs": [
    {
     "data": {
      "text/plain": [
       "1"
      ]
     },
     "execution_count": 136,
     "metadata": {},
     "output_type": "execute_result"
    }
   ],
   "source": [
    "x_train_vec[0][627]"
   ]
  },
  {
   "cell_type": "code",
   "execution_count": 139,
   "id": "76ec4d55",
   "metadata": {},
   "outputs": [
    {
     "data": {
      "text/plain": [
       "0"
      ]
     },
     "execution_count": 139,
     "metadata": {},
     "output_type": "execute_result"
    }
   ],
   "source": [
    "x_train_vec[1][627]"
   ]
  },
  {
   "cell_type": "code",
   "execution_count": 143,
   "id": "0975e32f",
   "metadata": {},
   "outputs": [
    {
     "data": {
      "text/plain": [
       "1"
      ]
     },
     "execution_count": 143,
     "metadata": {},
     "output_type": "execute_result"
    }
   ],
   "source": [
    "x_train_vec[1][1002]"
   ]
  },
  {
   "cell_type": "code",
   "execution_count": null,
   "id": "61bd17a1",
   "metadata": {},
   "outputs": [],
   "source": [
    "#feature_count=x_train_vec.sum(axis=0)\n",
    "#max_feature_index=feature_count.argmax()\n",
    "#feature_names = cv.get_feature_names_out()\n",
    "#max_feature_name = feature_names[max_feature_index]\n",
    "#max_feature_name\n",
    "#min_feature_index=feature_count.argmin()\n",
    "#min_feature_name = feature_names[min_feature_index]\n",
    "#min_feature_name"
   ]
  },
  {
   "cell_type": "markdown",
   "id": "12575c0d",
   "metadata": {},
   "source": [
    "## Naive Bayes Implementation with countvectorizer"
   ]
  },
  {
   "cell_type": "code",
   "execution_count": 152,
   "id": "7cb5b406",
   "metadata": {},
   "outputs": [
    {
     "name": "stdout",
     "output_type": "stream",
     "text": [
      "accuracy_score: 0.9876256767208044\n",
      "confusion metric:\n",
      " [[1122    8]\n",
      " [   8  155]]\n",
      "precision score: 0.950920245398773\n",
      "classification report:               precision    recall  f1-score   support\n",
      "\n",
      "           0       0.99      0.99      0.99      1130\n",
      "           1       0.95      0.95      0.95       163\n",
      "\n",
      "    accuracy                           0.99      1293\n",
      "   macro avg       0.97      0.97      0.97      1293\n",
      "weighted avg       0.99      0.99      0.99      1293\n",
      "\n"
     ]
    }
   ],
   "source": [
    "# Train the multinomial model\n",
    "mnb.fit(x_train_vec, y_train)\n",
    "y_pred1=mnb.predict(x_test_vec)\n",
    "print(\"accuracy_score:\",accuracy_score(y_test,y_pred1))\n",
    "print(\"confusion metric:\\n\",confusion_matrix(y_test,y_pred1))\n",
    "print(\"precision score:\",precision_score(y_test,y_pred1))\n",
    "print(\"classification report:\",classification_report(y_test,y_pred1))\n",
    "y_pred_prob1 = mnb.predict_proba(x_test_vec)\n",
    "\n"
   ]
  },
  {
   "cell_type": "code",
   "execution_count": 151,
   "id": "b6fd8514",
   "metadata": {},
   "outputs": [
    {
     "name": "stdout",
     "output_type": "stream",
     "text": [
      "accuracy_score: 0.8731631863882444\n",
      "confusion metric:\n",
      " [[982 148]\n",
      " [ 16 147]]\n",
      "precision score: 0.49830508474576274\n",
      "classification report:               precision    recall  f1-score   support\n",
      "\n",
      "           0       0.98      0.87      0.92      1130\n",
      "           1       0.50      0.90      0.64       163\n",
      "\n",
      "    accuracy                           0.87      1293\n",
      "   macro avg       0.74      0.89      0.78      1293\n",
      "weighted avg       0.92      0.87      0.89      1293\n",
      "\n"
     ]
    }
   ],
   "source": [
    "# Train the gaussian model\n",
    "gnb.fit(x_train_vec, y_train)\n",
    "y_pred2=gnb.predict(x_test_vec)\n",
    "print(\"accuracy_score:\",accuracy_score(y_test,y_pred2))\n",
    "print(\"confusion metric:\\n\",confusion_matrix(y_test,y_pred2))\n",
    "print(\"precision score:\",precision_score(y_test,y_pred2))\n",
    "print(\"classification report:\",classification_report(y_test,y_pred2))\n",
    "y_pred_prob2 = mnb.predict_proba(x_test_vec)"
   ]
  },
  {
   "cell_type": "code",
   "execution_count": 154,
   "id": "7cbac4f5",
   "metadata": {},
   "outputs": [
    {
     "name": "stdout",
     "output_type": "stream",
     "text": [
      "accuracy_score: 0.9767981438515081\n",
      "confusion metric:\n",
      " [[1129    1]\n",
      " [  29  134]]\n",
      "precision score: 0.9925925925925926\n",
      "classification report:               precision    recall  f1-score   support\n",
      "\n",
      "           0       0.97      1.00      0.99      1130\n",
      "           1       0.99      0.82      0.90       163\n",
      "\n",
      "    accuracy                           0.98      1293\n",
      "   macro avg       0.98      0.91      0.94      1293\n",
      "weighted avg       0.98      0.98      0.98      1293\n",
      "\n"
     ]
    }
   ],
   "source": [
    "# Train the model\n",
    "bnb.fit(x_train_vec, y_train)\n",
    "y_pred3=bnb.predict(x_test_vec)\n",
    "print(\"accuracy_score:\",accuracy_score(y_test,y_pred3))\n",
    "print(\"confusion metric:\\n\",confusion_matrix(y_test,y_pred3))\n",
    "print(\"precision score:\",precision_score(y_test,y_pred3))\n",
    "print(\"classification report:\",classification_report(y_test,y_pred3))\n",
    "y_pred_prob3 = bnb.predict_proba(x_test_vec)"
   ]
  },
  {
   "cell_type": "markdown",
   "id": "10553bcd",
   "metadata": {},
   "source": [
    "## Naive Bayes Implementation with tf_idf"
   ]
  },
  {
   "cell_type": "code",
   "execution_count": 155,
   "id": "0d89ae30",
   "metadata": {},
   "outputs": [],
   "source": [
    "tfidf=TfidfVectorizer()"
   ]
  },
  {
   "cell_type": "code",
   "execution_count": 156,
   "id": "bf9d9a45",
   "metadata": {},
   "outputs": [
    {
     "data": {
      "text/plain": [
       "TfidfVectorizer()"
      ]
     },
     "execution_count": 156,
     "metadata": {},
     "output_type": "execute_result"
    }
   ],
   "source": [
    "tfidf.fit(X_train)"
   ]
  },
  {
   "cell_type": "code",
   "execution_count": 157,
   "id": "3e828e64",
   "metadata": {},
   "outputs": [],
   "source": [
    "x_train_vec = tfidf.transform(X_train).toarray()\n",
    "x_test_vec = tfidf.transform(X_test).toarray()"
   ]
  },
  {
   "cell_type": "code",
   "execution_count": 158,
   "id": "52319438",
   "metadata": {},
   "outputs": [],
   "source": [
    "feature_sum=x_train_vec.sum(axis=0)"
   ]
  },
  {
   "cell_type": "code",
   "execution_count": 159,
   "id": "d8d1efa0",
   "metadata": {},
   "outputs": [
    {
     "data": {
      "text/plain": [
       "739"
      ]
     },
     "execution_count": 159,
     "metadata": {},
     "output_type": "execute_result"
    }
   ],
   "source": [
    "feature_sum.argmax()"
   ]
  },
  {
   "cell_type": "code",
   "execution_count": 161,
   "id": "b5e7b081",
   "metadata": {},
   "outputs": [
    {
     "data": {
      "text/plain": [
       "0.0"
      ]
     },
     "execution_count": 161,
     "metadata": {},
     "output_type": "execute_result"
    }
   ],
   "source": [
    "x_train_vec[0][657]"
   ]
  },
  {
   "cell_type": "code",
   "execution_count": 629,
   "id": "71f994ba",
   "metadata": {},
   "outputs": [
    {
     "data": {
      "text/plain": [
       "'call'"
      ]
     },
     "execution_count": 629,
     "metadata": {},
     "output_type": "execute_result"
    }
   ],
   "source": [
    "tfidf.get_feature_names_out()[657]"
   ]
  },
  {
   "cell_type": "code",
   "execution_count": 630,
   "id": "8aafb42a",
   "metadata": {},
   "outputs": [
    {
     "data": {
      "text/plain": [
       "2"
      ]
     },
     "execution_count": 630,
     "metadata": {},
     "output_type": "execute_result"
    }
   ],
   "source": [
    "feature_sum.argmin()"
   ]
  },
  {
   "cell_type": "code",
   "execution_count": 631,
   "id": "20928d24",
   "metadata": {},
   "outputs": [
    {
     "data": {
      "text/plain": [
       "'aaniy'"
      ]
     },
     "execution_count": 631,
     "metadata": {},
     "output_type": "execute_result"
    }
   ],
   "source": [
    "tfidf.get_feature_names_out()[2]"
   ]
  },
  {
   "cell_type": "code",
   "execution_count": 163,
   "id": "fcbdefc0",
   "metadata": {},
   "outputs": [
    {
     "name": "stdout",
     "output_type": "stream",
     "text": [
      "accuracy_score: 0.9667440061871616\n",
      "confusion metric:\n",
      " [[1130    0]\n",
      " [  43  120]]\n",
      "precision score: 1.0\n",
      "Classification report:               precision    recall  f1-score   support\n",
      "\n",
      "           0       0.96      1.00      0.98      1130\n",
      "           1       1.00      0.74      0.85       163\n",
      "\n",
      "    accuracy                           0.97      1293\n",
      "   macro avg       0.98      0.87      0.91      1293\n",
      "weighted avg       0.97      0.97      0.96      1293\n",
      "\n"
     ]
    }
   ],
   "source": [
    "# Train the multinomial model\n",
    "mnb.fit(x_train_vec, y_train)\n",
    "y_pred1=mnb.predict(x_test_vec)\n",
    "print(\"accuracy_score:\",accuracy_score(y_test,y_pred1))\n",
    "print(\"confusion metric:\\n\",confusion_matrix(y_test,y_pred1))\n",
    "print(\"precision score:\",precision_score(y_test,y_pred1))\n",
    "print(\"Classification report:\",classification_report(y_test,y_pred1))"
   ]
  },
  {
   "cell_type": "markdown",
   "id": "921844b7",
   "metadata": {},
   "source": [
    "Precision=TP/(TP+FP)=106/(106+0)=1   \n",
    "since we want false possitive to be as less as possible we will look into precision score as metric.\n",
    "tf_idf and multinomial naive bayes is performing best in this case."
   ]
  },
  {
   "cell_type": "code",
   "execution_count": 165,
   "id": "8b34cca9",
   "metadata": {},
   "outputs": [
    {
     "name": "stdout",
     "output_type": "stream",
     "text": [
      "accuracy_score: 0.868522815158546\n",
      "confusion metric: [[984 146]\n",
      " [ 24 139]]\n",
      "precision score: 0.48771929824561405\n",
      "Classification report:               precision    recall  f1-score   support\n",
      "\n",
      "           0       0.98      0.87      0.92      1130\n",
      "           1       0.49      0.85      0.62       163\n",
      "\n",
      "    accuracy                           0.87      1293\n",
      "   macro avg       0.73      0.86      0.77      1293\n",
      "weighted avg       0.91      0.87      0.88      1293\n",
      "\n"
     ]
    }
   ],
   "source": [
    "# Train the gaussian model\n",
    "gnb.fit(x_train_vec, y_train)\n",
    "y_pred2=gnb.predict(x_test_vec)\n",
    "print(\"accuracy_score:\",accuracy_score(y_test,y_pred2))\n",
    "print(\"confusion metric:\",confusion_matrix(y_test,y_pred2))\n",
    "print(\"precision score:\",precision_score(y_test,y_pred2))\n",
    "print(\"Classification report:\",classification_report(y_test,y_pred2))"
   ]
  },
  {
   "cell_type": "code",
   "execution_count": 166,
   "id": "499a1df2",
   "metadata": {},
   "outputs": [
    {
     "name": "stdout",
     "output_type": "stream",
     "text": [
      "accuracy_score: 0.9767981438515081\n",
      "confusion metric: [[1129    1]\n",
      " [  29  134]]\n",
      "precision score: 0.9925925925925926\n",
      "Classification report:               precision    recall  f1-score   support\n",
      "\n",
      "           0       0.97      1.00      0.99      1130\n",
      "           1       0.99      0.82      0.90       163\n",
      "\n",
      "    accuracy                           0.98      1293\n",
      "   macro avg       0.98      0.91      0.94      1293\n",
      "weighted avg       0.98      0.98      0.98      1293\n",
      "\n"
     ]
    }
   ],
   "source": [
    "# Train the model\n",
    "bnb.fit(x_train_vec, y_train)\n",
    "y_pred3=bnb.predict(x_test_vec)\n",
    "print(\"accuracy_score:\",accuracy_score(y_test,y_pred3))\n",
    "print(\"confusion metric:\",confusion_matrix(y_test,y_pred3))\n",
    "print(\"precision score:\",precision_score(y_test,y_pred3))\n",
    "print(\"Classification report:\",classification_report(y_test,y_pred3))"
   ]
  },
  {
   "cell_type": "code",
   "execution_count": 167,
   "id": "d55856b4",
   "metadata": {},
   "outputs": [],
   "source": [
    "from sklearn.linear_model import LogisticRegression\n",
    "from sklearn.svm import SVC\n",
    "from sklearn.tree import DecisionTreeClassifier\n",
    "from sklearn.neighbors import KNeighborsClassifier\n",
    "from sklearn.ensemble import AdaBoostClassifier,BaggingClassifier,RandomForestClassifier,GradientBoostingClassifier,ExtraTreesClassifier\n",
    "from xgboost import XGBClassifier\n",
    "from sklearn.naive_bayes import MultinomialNB"
   ]
  },
  {
   "cell_type": "code",
   "execution_count": 173,
   "id": "14d65144",
   "metadata": {},
   "outputs": [],
   "source": [
    "lgc=LogisticRegression(solver='liblinear',penalty='l1')\n",
    "svc=SVC(kernel='rbf',gamma=1.0,C=1.0)\n",
    "dtc=DecisionTreeClassifier(max_depth=5)\n",
    "knc=KNeighborsClassifier()\n",
    "rfc=RandomForestClassifier(n_estimators=50,random_state=2)\n",
    "abc=AdaBoostClassifier(n_estimators=50,random_state=2)\n",
    "bc=BaggingClassifier(n_estimators=50,random_state=2)\n",
    "gdbc=GradientBoostingClassifier(n_estimators=50,random_state=2)\n",
    "etc=ExtraTreesClassifier(n_estimators=50,random_state=2)\n",
    "xgb=XGBClassifier(n_estimators=50,random_state=2)\n",
    "mnb=MultinomialNB()\n",
    "\n",
    "\n"
   ]
  },
  {
   "cell_type": "code",
   "execution_count": 174,
   "id": "a0dbb373",
   "metadata": {},
   "outputs": [],
   "source": [
    "clfs={'LGC':lgc,'SVC':svc,'DTC':dtc,'KNC':knc,'RFC':rfc,'ABC':abc,'BC':bc,'GDBC':gdbc,'ETC':etc,'XGB':xgb,'MNB':mnb}"
   ]
  },
  {
   "cell_type": "code",
   "execution_count": 175,
   "id": "ceedba88",
   "metadata": {},
   "outputs": [],
   "source": [
    "\n",
    "def train_classifier(clf,x_train_vec, y_train,x_test_vec, y_test):\n",
    "    clf.fit(x_train_vec, y_train)\n",
    "    y_pred=clf.predict(x_test_vec)\n",
    "    accuracy=accuracy_score(y_test,y_pred)\n",
    "    precision=precision_score(y_test,y_pred)\n",
    "    recall=recall(y_test,y_pred)\n",
    "    confusion_matrix=confusion_matrix(y_test,y_pred)\n",
    "    return accuracy,precision,recall,confusion_matrix"
   ]
  },
  {
   "cell_type": "code",
   "execution_count": 172,
   "id": "1dc0899a",
   "metadata": {},
   "outputs": [
    {
     "ename": "ValueError",
     "evalue": "'RBF' is not in list",
     "output_type": "error",
     "traceback": [
      "\u001b[1;31m---------------------------------------------------------------------------\u001b[0m",
      "\u001b[1;31mValueError\u001b[0m                                Traceback (most recent call last)",
      "\u001b[1;32m~\\AppData\\Local\\Temp\\ipykernel_1512\\538501357.py\u001b[0m in \u001b[0;36m<module>\u001b[1;34m\u001b[0m\n\u001b[0;32m      1\u001b[0m \u001b[1;32mimport\u001b[0m \u001b[0mtime\u001b[0m\u001b[1;33m\u001b[0m\u001b[1;33m\u001b[0m\u001b[0m\n\u001b[0;32m      2\u001b[0m \u001b[0mstart_time\u001b[0m \u001b[1;33m=\u001b[0m \u001b[0mtime\u001b[0m\u001b[1;33m.\u001b[0m\u001b[0mtime\u001b[0m\u001b[1;33m(\u001b[0m\u001b[1;33m)\u001b[0m\u001b[1;33m\u001b[0m\u001b[1;33m\u001b[0m\u001b[0m\n\u001b[1;32m----> 3\u001b[1;33m \u001b[0mtrain_classifier\u001b[0m\u001b[1;33m(\u001b[0m\u001b[0msvc\u001b[0m\u001b[1;33m,\u001b[0m\u001b[0mx_train_vec\u001b[0m\u001b[1;33m,\u001b[0m \u001b[0my_train\u001b[0m\u001b[1;33m,\u001b[0m\u001b[0mx_test_vec\u001b[0m\u001b[1;33m,\u001b[0m \u001b[0my_test\u001b[0m\u001b[1;33m)\u001b[0m\u001b[1;33m\u001b[0m\u001b[1;33m\u001b[0m\u001b[0m\n\u001b[0m\u001b[0;32m      4\u001b[0m \u001b[0mend_time\u001b[0m \u001b[1;33m=\u001b[0m \u001b[0mtime\u001b[0m\u001b[1;33m.\u001b[0m\u001b[0mtime\u001b[0m\u001b[1;33m(\u001b[0m\u001b[1;33m)\u001b[0m\u001b[1;33m\u001b[0m\u001b[1;33m\u001b[0m\u001b[0m\n\u001b[0;32m      5\u001b[0m \u001b[0mexecution_time\u001b[0m\u001b[1;33m=\u001b[0m\u001b[0mend_time\u001b[0m\u001b[1;33m-\u001b[0m\u001b[0mstart_time\u001b[0m\u001b[1;33m\u001b[0m\u001b[1;33m\u001b[0m\u001b[0m\n",
      "\u001b[1;32m~\\AppData\\Local\\Temp\\ipykernel_1512\\2748647085.py\u001b[0m in \u001b[0;36mtrain_classifier\u001b[1;34m(clf, x_train_vec, y_train, x_test_vec, y_test)\u001b[0m\n\u001b[0;32m      1\u001b[0m \u001b[1;32mdef\u001b[0m \u001b[0mtrain_classifier\u001b[0m\u001b[1;33m(\u001b[0m\u001b[0mclf\u001b[0m\u001b[1;33m,\u001b[0m\u001b[0mx_train_vec\u001b[0m\u001b[1;33m,\u001b[0m \u001b[0my_train\u001b[0m\u001b[1;33m,\u001b[0m\u001b[0mx_test_vec\u001b[0m\u001b[1;33m,\u001b[0m \u001b[0my_test\u001b[0m\u001b[1;33m)\u001b[0m\u001b[1;33m:\u001b[0m\u001b[1;33m\u001b[0m\u001b[1;33m\u001b[0m\u001b[0m\n\u001b[1;32m----> 2\u001b[1;33m     \u001b[0mclf\u001b[0m\u001b[1;33m.\u001b[0m\u001b[0mfit\u001b[0m\u001b[1;33m(\u001b[0m\u001b[0mx_train_vec\u001b[0m\u001b[1;33m,\u001b[0m \u001b[0my_train\u001b[0m\u001b[1;33m)\u001b[0m\u001b[1;33m\u001b[0m\u001b[1;33m\u001b[0m\u001b[0m\n\u001b[0m\u001b[0;32m      3\u001b[0m     \u001b[0my_pred\u001b[0m\u001b[1;33m=\u001b[0m\u001b[0mclf\u001b[0m\u001b[1;33m.\u001b[0m\u001b[0mpredict\u001b[0m\u001b[1;33m(\u001b[0m\u001b[0mx_test_vec\u001b[0m\u001b[1;33m)\u001b[0m\u001b[1;33m\u001b[0m\u001b[1;33m\u001b[0m\u001b[0m\n\u001b[0;32m      4\u001b[0m     \u001b[0maccuracy\u001b[0m\u001b[1;33m=\u001b[0m\u001b[0maccuracy_score\u001b[0m\u001b[1;33m(\u001b[0m\u001b[0my_test\u001b[0m\u001b[1;33m,\u001b[0m\u001b[0my_pred\u001b[0m\u001b[1;33m)\u001b[0m\u001b[1;33m\u001b[0m\u001b[1;33m\u001b[0m\u001b[0m\n\u001b[0;32m      5\u001b[0m     \u001b[0mprecision\u001b[0m\u001b[1;33m=\u001b[0m\u001b[0mprecision_score\u001b[0m\u001b[1;33m(\u001b[0m\u001b[0my_test\u001b[0m\u001b[1;33m,\u001b[0m\u001b[0my_pred\u001b[0m\u001b[1;33m)\u001b[0m\u001b[1;33m\u001b[0m\u001b[1;33m\u001b[0m\u001b[0m\n",
      "\u001b[1;32m~\\anaconda3\\lib\\site-packages\\sklearn\\svm\\_base.py\u001b[0m in \u001b[0;36mfit\u001b[1;34m(self, X, y, sample_weight)\u001b[0m\n\u001b[0;32m    253\u001b[0m \u001b[1;33m\u001b[0m\u001b[0m\n\u001b[0;32m    254\u001b[0m         \u001b[0mseed\u001b[0m \u001b[1;33m=\u001b[0m \u001b[0mrnd\u001b[0m\u001b[1;33m.\u001b[0m\u001b[0mrandint\u001b[0m\u001b[1;33m(\u001b[0m\u001b[0mnp\u001b[0m\u001b[1;33m.\u001b[0m\u001b[0miinfo\u001b[0m\u001b[1;33m(\u001b[0m\u001b[1;34m\"i\"\u001b[0m\u001b[1;33m)\u001b[0m\u001b[1;33m.\u001b[0m\u001b[0mmax\u001b[0m\u001b[1;33m)\u001b[0m\u001b[1;33m\u001b[0m\u001b[1;33m\u001b[0m\u001b[0m\n\u001b[1;32m--> 255\u001b[1;33m         \u001b[0mfit\u001b[0m\u001b[1;33m(\u001b[0m\u001b[0mX\u001b[0m\u001b[1;33m,\u001b[0m \u001b[0my\u001b[0m\u001b[1;33m,\u001b[0m \u001b[0msample_weight\u001b[0m\u001b[1;33m,\u001b[0m \u001b[0msolver_type\u001b[0m\u001b[1;33m,\u001b[0m \u001b[0mkernel\u001b[0m\u001b[1;33m,\u001b[0m \u001b[0mrandom_seed\u001b[0m\u001b[1;33m=\u001b[0m\u001b[0mseed\u001b[0m\u001b[1;33m)\u001b[0m\u001b[1;33m\u001b[0m\u001b[1;33m\u001b[0m\u001b[0m\n\u001b[0m\u001b[0;32m    256\u001b[0m         \u001b[1;31m# see comment on the other call to np.iinfo in this file\u001b[0m\u001b[1;33m\u001b[0m\u001b[1;33m\u001b[0m\u001b[0m\n\u001b[0;32m    257\u001b[0m \u001b[1;33m\u001b[0m\u001b[0m\n",
      "\u001b[1;32m~\\anaconda3\\lib\\site-packages\\sklearn\\svm\\_base.py\u001b[0m in \u001b[0;36m_dense_fit\u001b[1;34m(self, X, y, sample_weight, solver_type, kernel, random_seed)\u001b[0m\n\u001b[0;32m    313\u001b[0m             \u001b[0mself\u001b[0m\u001b[1;33m.\u001b[0m\u001b[0m_probB\u001b[0m\u001b[1;33m,\u001b[0m\u001b[1;33m\u001b[0m\u001b[1;33m\u001b[0m\u001b[0m\n\u001b[0;32m    314\u001b[0m             \u001b[0mself\u001b[0m\u001b[1;33m.\u001b[0m\u001b[0mfit_status_\u001b[0m\u001b[1;33m,\u001b[0m\u001b[1;33m\u001b[0m\u001b[1;33m\u001b[0m\u001b[0m\n\u001b[1;32m--> 315\u001b[1;33m         \u001b[1;33m)\u001b[0m \u001b[1;33m=\u001b[0m \u001b[0mlibsvm\u001b[0m\u001b[1;33m.\u001b[0m\u001b[0mfit\u001b[0m\u001b[1;33m(\u001b[0m\u001b[1;33m\u001b[0m\u001b[1;33m\u001b[0m\u001b[0m\n\u001b[0m\u001b[0;32m    316\u001b[0m             \u001b[0mX\u001b[0m\u001b[1;33m,\u001b[0m\u001b[1;33m\u001b[0m\u001b[1;33m\u001b[0m\u001b[0m\n\u001b[0;32m    317\u001b[0m             \u001b[0my\u001b[0m\u001b[1;33m,\u001b[0m\u001b[1;33m\u001b[0m\u001b[1;33m\u001b[0m\u001b[0m\n",
      "\u001b[1;32msklearn\\svm\\_libsvm.pyx\u001b[0m in \u001b[0;36msklearn.svm._libsvm.fit\u001b[1;34m()\u001b[0m\n",
      "\u001b[1;31mValueError\u001b[0m: 'RBF' is not in list"
     ]
    }
   ],
   "source": [
    "import time\n",
    "start_time = time.time()\n",
    "train_classifier(svc,x_train_vec, y_train,x_test_vec, y_test)\n",
    "end_time = time.time()\n",
    "execution_time=end_time-start_time\n",
    "print(\"execution time\",execution_time)"
   ]
  },
  {
   "cell_type": "code",
   "execution_count": 649,
   "id": "8f49a28d",
   "metadata": {},
   "outputs": [
    {
     "ename": "NameError",
     "evalue": "name 'y_pred' is not defined",
     "output_type": "error",
     "traceback": [
      "\u001b[1;31m---------------------------------------------------------------------------\u001b[0m",
      "\u001b[1;31mNameError\u001b[0m                                 Traceback (most recent call last)",
      "\u001b[1;32m~\\AppData\\Local\\Temp\\ipykernel_14264\\3562620839.py\u001b[0m in \u001b[0;36m<module>\u001b[1;34m\u001b[0m\n\u001b[1;32m----> 1\u001b[1;33m \u001b[0my_pred\u001b[0m\u001b[1;33m\u001b[0m\u001b[1;33m\u001b[0m\u001b[0m\n\u001b[0m",
      "\u001b[1;31mNameError\u001b[0m: name 'y_pred' is not defined"
     ]
    }
   ],
   "source": [
    "y_pred"
   ]
  },
  {
   "cell_type": "code",
   "execution_count": 664,
   "id": "ea62ecfd",
   "metadata": {},
   "outputs": [
    {
     "name": "stdout",
     "output_type": "stream",
     "text": [
      "<class 'pandas.core.series.Series'> <class 'numpy.ndarray'>\n",
      "For  LGC\n",
      "accuracy score 0.9582366589327146\n",
      "precision score 0.957983193277311\n",
      "<class 'pandas.core.series.Series'> <class 'numpy.ndarray'>\n",
      "For  SVC\n",
      "accuracy score 0.979891724671307\n",
      "precision score 0.9928057553956835\n",
      "<class 'pandas.core.series.Series'> <class 'numpy.ndarray'>\n",
      "For  DTC\n",
      "accuracy score 0.9358081979891725\n",
      "precision score 0.8636363636363636\n"
     ]
    },
    {
     "name": "stderr",
     "output_type": "stream",
     "text": [
      "C:\\Users\\Home\\anaconda3\\lib\\site-packages\\sklearn\\neighbors\\_classification.py:228: FutureWarning: Unlike other reduction functions (e.g. `skew`, `kurtosis`), the default behavior of `mode` typically preserves the axis it acts along. In SciPy 1.11.0, this behavior will change: the default value of `keepdims` will become False, the `axis` over which the statistic is taken will be eliminated, and the value None will no longer be accepted. Set `keepdims` to True or False to avoid this warning.\n",
      "  mode, _ = stats.mode(_y[neigh_ind, k], axis=1)\n"
     ]
    },
    {
     "name": "stdout",
     "output_type": "stream",
     "text": [
      "<class 'pandas.core.series.Series'> <class 'numpy.ndarray'>\n",
      "For  KNC\n",
      "accuracy score 0.9064191802010828\n",
      "precision score 0.9772727272727273\n",
      "<class 'pandas.core.series.Series'> <class 'numpy.ndarray'>\n",
      "For  RFC\n",
      "accuracy score 0.974477958236659\n",
      "precision score 0.9924242424242424\n",
      "<class 'pandas.core.series.Series'> <class 'numpy.ndarray'>\n",
      "For  ABC\n",
      "accuracy score 0.962877030162413\n",
      "precision score 0.8758169934640523\n",
      "<class 'pandas.core.series.Series'> <class 'numpy.ndarray'>\n",
      "For  BC\n",
      "accuracy score 0.9621036349574633\n",
      "precision score 0.8904109589041096\n",
      "<class 'pandas.core.series.Series'> <class 'numpy.ndarray'>\n",
      "For  GDBC\n",
      "accuracy score 0.9497293116782676\n",
      "precision score 0.9711538461538461\n",
      "<class 'pandas.core.series.Series'> <class 'numpy.ndarray'>\n",
      "For  ETC\n",
      "accuracy score 0.9752513534416086\n",
      "precision score 0.9645390070921985\n",
      "<class 'pandas.core.series.Series'> <class 'numpy.ndarray'>\n",
      "For  XGB\n",
      "accuracy score 0.9706109822119103\n",
      "precision score 0.9629629629629629\n",
      "<class 'pandas.core.series.Series'> <class 'numpy.ndarray'>\n",
      "For  MNB\n",
      "accuracy score 0.9559164733178654\n",
      "precision score 1.0\n"
     ]
    }
   ],
   "source": [
    "accuracy_scores=[]\n",
    "precision_scores=[]\n",
    "Names=[]\n",
    "from sklearn.metrics import accuracy_score,precision_score\n",
    "for name,clf in clfs.items():\n",
    "    start_time = time.time()\n",
    "    current_accuracy,current_precision,recall,confusion_matrix=train_classifier(clf,x_train_vec, y_train,x_test_vec, y_test)\n",
    "    end_time = time.time()\n",
    "    execution time=end_time-start_time\n",
    "    print(\"execution time\",execution time)\n",
    "    print(\"For \",name)\n",
    "    print(\"accuracy score\",current_accuracy)\n",
    "    print(\"precision score\",current_precision)\n",
    "    print(\"recall\",recall)\n",
    "    print(\"confusion_matrix\",confusion_matrix)\n",
    "    Names.append(name)\n",
    "    accuracy_scores.append(current_accuracy)\n",
    "    precision_scores.append(current_precision)"
   ]
  },
  {
   "cell_type": "code",
   "execution_count": 672,
   "id": "c14ef099",
   "metadata": {},
   "outputs": [
    {
     "name": "stdout",
     "output_type": "stream",
     "text": [
      "    Name  accuracy  precision\n",
      "2    DTC  0.935808   0.863636\n",
      "5    ABC  0.962877   0.875817\n",
      "6     BC  0.962104   0.890411\n",
      "0    LGC  0.958237   0.957983\n",
      "9    XGB  0.970611   0.962963\n",
      "8    ETC  0.975251   0.964539\n",
      "7   GDBC  0.949729   0.971154\n",
      "3    KNC  0.906419   0.977273\n",
      "4    RFC  0.974478   0.992424\n",
      "1    SVC  0.979892   0.992806\n",
      "10   MNB  0.955916   1.000000\n"
     ]
    }
   ],
   "source": [
    "#Converting the result into more viewable form\n",
    "df_acc_prec = pd.DataFrame({'Name': Names, 'accuracy': accuracy_scores, 'precision': precision_scores})\n",
    "\n",
    "# Print the DataFrame\n",
    "print(df_acc_prec.sort_values(by='precision'))"
   ]
  },
  {
   "cell_type": "code",
   "execution_count": 673,
   "id": "da2d4f85",
   "metadata": {},
   "outputs": [],
   "source": [
    "x_dum=np.array([\"won prize free free free\",\"get back soon\",\"all well\",\"free prize cash\",\"car broke middle\",\"I will call you back when i am free\"])\n"
   ]
  },
  {
   "cell_type": "code",
   "execution_count": null,
   "id": "dc30c164",
   "metadata": {},
   "outputs": [],
   "source": [
    "lgc=LogisticRegression(solver='liblinear',penalty='l1')\n",
    "svc=SVC(kernel='sigmoid',gamma=1.0)\n",
    "dtc=DecisionTreeClassifier(max_depth=5)\n",
    "knc=KNeighborsClassifier()\n",
    "rfc=RandomForestClassifier(n_estimators=50,random_state=2)\n",
    "abc=AdaBoostClassifier(n_estimators=50,random_state=2)\n",
    "bc=BaggingClassifier(n_estimators=50,random_state=2)\n",
    "gdbc=GradientBoostingClassifier(n_estimators=50,random_state=2)\n",
    "etc=ExtraTreesClassifier(n_estimators=50,random_state=2)\n",
    "xgb=XGBClassifier(n_estimators=50,random_state=2)\n",
    "mnb=MultinomialNB()"
   ]
  },
  {
   "cell_type": "code",
   "execution_count": 674,
   "id": "377f4e56",
   "metadata": {},
   "outputs": [
    {
     "ename": "ValueError",
     "evalue": "Expected 2D array, got 1D array instead:\narray=['won prize free free free' 'get back soon' 'all well' 'free prize cash'\n 'car broke middle' 'I will call you back when i am free'].\nReshape your data either using array.reshape(-1, 1) if your data has a single feature or array.reshape(1, -1) if it contains a single sample.",
     "output_type": "error",
     "traceback": [
      "\u001b[1;31m---------------------------------------------------------------------------\u001b[0m",
      "\u001b[1;31mValueError\u001b[0m                                Traceback (most recent call last)",
      "\u001b[1;32m~\\AppData\\Local\\Temp\\ipykernel_14264\\2073702176.py\u001b[0m in \u001b[0;36m<module>\u001b[1;34m\u001b[0m\n\u001b[1;32m----> 1\u001b[1;33m \u001b[0my_pred_dummy\u001b[0m\u001b[1;33m=\u001b[0m\u001b[0mlgc\u001b[0m\u001b[1;33m.\u001b[0m\u001b[0mpredict\u001b[0m\u001b[1;33m(\u001b[0m\u001b[0mx_dum\u001b[0m\u001b[1;33m)\u001b[0m\u001b[1;33m\u001b[0m\u001b[1;33m\u001b[0m\u001b[0m\n\u001b[0m",
      "\u001b[1;32m~\\anaconda3\\lib\\site-packages\\sklearn\\linear_model\\_base.py\u001b[0m in \u001b[0;36mpredict\u001b[1;34m(self, X)\u001b[0m\n\u001b[0;32m    423\u001b[0m             \u001b[0mVector\u001b[0m \u001b[0mcontaining\u001b[0m \u001b[0mthe\u001b[0m \u001b[1;32mclass\u001b[0m \u001b[0mlabels\u001b[0m \u001b[1;32mfor\u001b[0m \u001b[0meach\u001b[0m \u001b[0msample\u001b[0m\u001b[1;33m.\u001b[0m\u001b[1;33m\u001b[0m\u001b[1;33m\u001b[0m\u001b[0m\n\u001b[0;32m    424\u001b[0m         \"\"\"\n\u001b[1;32m--> 425\u001b[1;33m         \u001b[0mscores\u001b[0m \u001b[1;33m=\u001b[0m \u001b[0mself\u001b[0m\u001b[1;33m.\u001b[0m\u001b[0mdecision_function\u001b[0m\u001b[1;33m(\u001b[0m\u001b[0mX\u001b[0m\u001b[1;33m)\u001b[0m\u001b[1;33m\u001b[0m\u001b[1;33m\u001b[0m\u001b[0m\n\u001b[0m\u001b[0;32m    426\u001b[0m         \u001b[1;32mif\u001b[0m \u001b[0mlen\u001b[0m\u001b[1;33m(\u001b[0m\u001b[0mscores\u001b[0m\u001b[1;33m.\u001b[0m\u001b[0mshape\u001b[0m\u001b[1;33m)\u001b[0m \u001b[1;33m==\u001b[0m \u001b[1;36m1\u001b[0m\u001b[1;33m:\u001b[0m\u001b[1;33m\u001b[0m\u001b[1;33m\u001b[0m\u001b[0m\n\u001b[0;32m    427\u001b[0m             \u001b[0mindices\u001b[0m \u001b[1;33m=\u001b[0m \u001b[1;33m(\u001b[0m\u001b[0mscores\u001b[0m \u001b[1;33m>\u001b[0m \u001b[1;36m0\u001b[0m\u001b[1;33m)\u001b[0m\u001b[1;33m.\u001b[0m\u001b[0mastype\u001b[0m\u001b[1;33m(\u001b[0m\u001b[0mint\u001b[0m\u001b[1;33m)\u001b[0m\u001b[1;33m\u001b[0m\u001b[1;33m\u001b[0m\u001b[0m\n",
      "\u001b[1;32m~\\anaconda3\\lib\\site-packages\\sklearn\\linear_model\\_base.py\u001b[0m in \u001b[0;36mdecision_function\u001b[1;34m(self, X)\u001b[0m\n\u001b[0;32m    405\u001b[0m         \u001b[0mcheck_is_fitted\u001b[0m\u001b[1;33m(\u001b[0m\u001b[0mself\u001b[0m\u001b[1;33m)\u001b[0m\u001b[1;33m\u001b[0m\u001b[1;33m\u001b[0m\u001b[0m\n\u001b[0;32m    406\u001b[0m \u001b[1;33m\u001b[0m\u001b[0m\n\u001b[1;32m--> 407\u001b[1;33m         \u001b[0mX\u001b[0m \u001b[1;33m=\u001b[0m \u001b[0mself\u001b[0m\u001b[1;33m.\u001b[0m\u001b[0m_validate_data\u001b[0m\u001b[1;33m(\u001b[0m\u001b[0mX\u001b[0m\u001b[1;33m,\u001b[0m \u001b[0maccept_sparse\u001b[0m\u001b[1;33m=\u001b[0m\u001b[1;34m\"csr\"\u001b[0m\u001b[1;33m,\u001b[0m \u001b[0mreset\u001b[0m\u001b[1;33m=\u001b[0m\u001b[1;32mFalse\u001b[0m\u001b[1;33m)\u001b[0m\u001b[1;33m\u001b[0m\u001b[1;33m\u001b[0m\u001b[0m\n\u001b[0m\u001b[0;32m    408\u001b[0m         \u001b[0mscores\u001b[0m \u001b[1;33m=\u001b[0m \u001b[0msafe_sparse_dot\u001b[0m\u001b[1;33m(\u001b[0m\u001b[0mX\u001b[0m\u001b[1;33m,\u001b[0m \u001b[0mself\u001b[0m\u001b[1;33m.\u001b[0m\u001b[0mcoef_\u001b[0m\u001b[1;33m.\u001b[0m\u001b[0mT\u001b[0m\u001b[1;33m,\u001b[0m \u001b[0mdense_output\u001b[0m\u001b[1;33m=\u001b[0m\u001b[1;32mTrue\u001b[0m\u001b[1;33m)\u001b[0m \u001b[1;33m+\u001b[0m \u001b[0mself\u001b[0m\u001b[1;33m.\u001b[0m\u001b[0mintercept_\u001b[0m\u001b[1;33m\u001b[0m\u001b[1;33m\u001b[0m\u001b[0m\n\u001b[0;32m    409\u001b[0m         \u001b[1;32mreturn\u001b[0m \u001b[0mscores\u001b[0m\u001b[1;33m.\u001b[0m\u001b[0mravel\u001b[0m\u001b[1;33m(\u001b[0m\u001b[1;33m)\u001b[0m \u001b[1;32mif\u001b[0m \u001b[0mscores\u001b[0m\u001b[1;33m.\u001b[0m\u001b[0mshape\u001b[0m\u001b[1;33m[\u001b[0m\u001b[1;36m1\u001b[0m\u001b[1;33m]\u001b[0m \u001b[1;33m==\u001b[0m \u001b[1;36m1\u001b[0m \u001b[1;32melse\u001b[0m \u001b[0mscores\u001b[0m\u001b[1;33m\u001b[0m\u001b[1;33m\u001b[0m\u001b[0m\n",
      "\u001b[1;32m~\\anaconda3\\lib\\site-packages\\sklearn\\base.py\u001b[0m in \u001b[0;36m_validate_data\u001b[1;34m(self, X, y, reset, validate_separately, **check_params)\u001b[0m\n\u001b[0;32m    564\u001b[0m             \u001b[1;32mraise\u001b[0m \u001b[0mValueError\u001b[0m\u001b[1;33m(\u001b[0m\u001b[1;34m\"Validation should be done on X, y or both.\"\u001b[0m\u001b[1;33m)\u001b[0m\u001b[1;33m\u001b[0m\u001b[1;33m\u001b[0m\u001b[0m\n\u001b[0;32m    565\u001b[0m         \u001b[1;32melif\u001b[0m \u001b[1;32mnot\u001b[0m \u001b[0mno_val_X\u001b[0m \u001b[1;32mand\u001b[0m \u001b[0mno_val_y\u001b[0m\u001b[1;33m:\u001b[0m\u001b[1;33m\u001b[0m\u001b[1;33m\u001b[0m\u001b[0m\n\u001b[1;32m--> 566\u001b[1;33m             \u001b[0mX\u001b[0m \u001b[1;33m=\u001b[0m \u001b[0mcheck_array\u001b[0m\u001b[1;33m(\u001b[0m\u001b[0mX\u001b[0m\u001b[1;33m,\u001b[0m \u001b[1;33m**\u001b[0m\u001b[0mcheck_params\u001b[0m\u001b[1;33m)\u001b[0m\u001b[1;33m\u001b[0m\u001b[1;33m\u001b[0m\u001b[0m\n\u001b[0m\u001b[0;32m    567\u001b[0m             \u001b[0mout\u001b[0m \u001b[1;33m=\u001b[0m \u001b[0mX\u001b[0m\u001b[1;33m\u001b[0m\u001b[1;33m\u001b[0m\u001b[0m\n\u001b[0;32m    568\u001b[0m         \u001b[1;32melif\u001b[0m \u001b[0mno_val_X\u001b[0m \u001b[1;32mand\u001b[0m \u001b[1;32mnot\u001b[0m \u001b[0mno_val_y\u001b[0m\u001b[1;33m:\u001b[0m\u001b[1;33m\u001b[0m\u001b[1;33m\u001b[0m\u001b[0m\n",
      "\u001b[1;32m~\\anaconda3\\lib\\site-packages\\sklearn\\utils\\validation.py\u001b[0m in \u001b[0;36mcheck_array\u001b[1;34m(array, accept_sparse, accept_large_sparse, dtype, order, copy, force_all_finite, ensure_2d, allow_nd, ensure_min_samples, ensure_min_features, estimator)\u001b[0m\n\u001b[0;32m    767\u001b[0m             \u001b[1;31m# If input is 1D raise error\u001b[0m\u001b[1;33m\u001b[0m\u001b[1;33m\u001b[0m\u001b[0m\n\u001b[0;32m    768\u001b[0m             \u001b[1;32mif\u001b[0m \u001b[0marray\u001b[0m\u001b[1;33m.\u001b[0m\u001b[0mndim\u001b[0m \u001b[1;33m==\u001b[0m \u001b[1;36m1\u001b[0m\u001b[1;33m:\u001b[0m\u001b[1;33m\u001b[0m\u001b[1;33m\u001b[0m\u001b[0m\n\u001b[1;32m--> 769\u001b[1;33m                 raise ValueError(\n\u001b[0m\u001b[0;32m    770\u001b[0m                     \u001b[1;34m\"Expected 2D array, got 1D array instead:\\narray={}.\\n\"\u001b[0m\u001b[1;33m\u001b[0m\u001b[1;33m\u001b[0m\u001b[0m\n\u001b[0;32m    771\u001b[0m                     \u001b[1;34m\"Reshape your data either using array.reshape(-1, 1) if \"\u001b[0m\u001b[1;33m\u001b[0m\u001b[1;33m\u001b[0m\u001b[0m\n",
      "\u001b[1;31mValueError\u001b[0m: Expected 2D array, got 1D array instead:\narray=['won prize free free free' 'get back soon' 'all well' 'free prize cash'\n 'car broke middle' 'I will call you back when i am free'].\nReshape your data either using array.reshape(-1, 1) if your data has a single feature or array.reshape(1, -1) if it contains a single sample."
     ]
    }
   ],
   "source": [
    "y_pred_dummy=lgc.predict(x_dum)"
   ]
  },
  {
   "cell_type": "code",
   "execution_count": 609,
   "id": "4fc591d2",
   "metadata": {},
   "outputs": [],
   "source": [
    "x_dum1=np.array([\"great news\",\"win prize\",\"absolute nuisance idea\",\"free time\"])\n",
    "y_dum1=np.array([0,1,0,0])\n",
    "x_vec_dum1=cv_dum.transform(x_dum1)"
   ]
  },
  {
   "cell_type": "code",
   "execution_count": 607,
   "id": "9266eb79",
   "metadata": {},
   "outputs": [
    {
     "data": {
      "text/plain": [
       "array(['all', 'back', 'broke', 'car', 'cash', 'free', 'get', 'middle',\n",
       "       'prize', 'soon', 'well', 'won'], dtype=object)"
      ]
     },
     "execution_count": 607,
     "metadata": {},
     "output_type": "execute_result"
    }
   ],
   "source": [
    "cv_dum.get_feature_names_out()"
   ]
  },
  {
   "cell_type": "code",
   "execution_count": 615,
   "id": "be152db6",
   "metadata": {},
   "outputs": [
    {
     "data": {
      "text/plain": [
       "array([[0, 0, 0, 0, 0, 0, 0, 0, 0, 0, 0, 0],\n",
       "       [0, 0, 0, 0, 0, 0, 0, 0, 1, 0, 0, 0],\n",
       "       [0, 0, 0, 0, 0, 0, 0, 0, 0, 0, 0, 0],\n",
       "       [0, 0, 0, 0, 0, 1, 0, 0, 0, 0, 0, 0]], dtype=int64)"
      ]
     },
     "execution_count": 615,
     "metadata": {},
     "output_type": "execute_result"
    }
   ],
   "source": [
    "x_vec_dum1.toarray()"
   ]
  },
  {
   "cell_type": "code",
   "execution_count": 613,
   "id": "1f7061d7",
   "metadata": {},
   "outputs": [
    {
     "name": "stdout",
     "output_type": "stream",
     "text": [
      "accuracy_score: 0.75\n",
      "confusion metric: [[2 1]\n",
      " [0 1]]\n",
      "precision score: 0.5\n",
      "[[0.6        0.4       ]\n",
      " [0.33333333 0.66666667]\n",
      " [0.6        0.4       ]\n",
      " [0.23076923 0.76923077]]\n"
     ]
    }
   ],
   "source": [
    "# Train the dummy model\n",
    "mnb_dum=MultinomialNB()\n",
    "mnb_dum.fit(x_vec_dum, y_dum)\n",
    "y_dum_pred1=mnb_dum.predict(x_vec_dum1)\n",
    "print(\"accuracy_score:\",accuracy_score(y_dum1,y_dum_pred1))\n",
    "print(\"confusion metric:\",confusion_matrix(y_dum1,y_dum_pred1))\n",
    "print(\"precision score:\",precision_score(y_dum1,y_dum_pred1))\n",
    "y_pred_dum_prob1 = mnb_dum.predict_proba(x_vec_dum1)\n",
    "print(y_pred_dum_prob1)"
   ]
  },
  {
   "cell_type": "code",
   "execution_count": 608,
   "id": "2578a1f2",
   "metadata": {},
   "outputs": [
    {
     "data": {
      "text/plain": [
       "array([[0, 0, 0, 0, 0, 3, 0, 0, 1, 0, 0, 1],\n",
       "       [0, 1, 0, 0, 0, 0, 1, 0, 0, 1, 0, 0],\n",
       "       [1, 0, 0, 0, 0, 0, 0, 0, 0, 0, 1, 0],\n",
       "       [0, 0, 0, 0, 1, 1, 0, 0, 1, 0, 0, 0],\n",
       "       [0, 0, 1, 1, 0, 0, 0, 1, 0, 0, 0, 0]], dtype=int64)"
      ]
     },
     "execution_count": 608,
     "metadata": {},
     "output_type": "execute_result"
    }
   ],
   "source": [
    "x_vec_dum.toarray()"
   ]
  },
  {
   "cell_type": "code",
   "execution_count": null,
   "id": "21677454",
   "metadata": {},
   "outputs": [],
   "source": []
  },
  {
   "cell_type": "code",
   "execution_count": null,
   "id": "9ff7ef38",
   "metadata": {},
   "outputs": [],
   "source": []
  },
  {
   "cell_type": "code",
   "execution_count": 284,
   "id": "8de7038a",
   "metadata": {},
   "outputs": [],
   "source": [
    "# Make class and probability predictions\n",
    "y_pred_class = nb.predict(x_test_vec)\n",
    "y_pred_prob = nb.predict_proba(x_test_vec)"
   ]
  },
  {
   "cell_type": "code",
   "execution_count": 292,
   "id": "a247a8a6",
   "metadata": {},
   "outputs": [
    {
     "data": {
      "text/plain": [
       "array(['ham', 'ham', 'ham', ..., 'ham', 'spam', 'ham'], dtype='<U4')"
      ]
     },
     "execution_count": 292,
     "metadata": {},
     "output_type": "execute_result"
    }
   ],
   "source": [
    "y_pred_class"
   ]
  },
  {
   "cell_type": "code",
   "execution_count": 293,
   "id": "a9a936c5",
   "metadata": {},
   "outputs": [
    {
     "data": {
      "text/plain": [
       "array([[9.97333939e-01, 2.66606064e-03],\n",
       "       [9.99422386e-01, 5.77614055e-04],\n",
       "       [9.99999999e-01, 8.22437350e-10],\n",
       "       ...,\n",
       "       [9.99901396e-01, 9.86042857e-05],\n",
       "       [1.25973056e-06, 9.99998740e-01],\n",
       "       [9.99882475e-01, 1.17525049e-04]])"
      ]
     },
     "execution_count": 293,
     "metadata": {},
     "output_type": "execute_result"
    }
   ],
   "source": [
    "y_pred_prob"
   ]
  },
  {
   "cell_type": "code",
   "execution_count": 302,
   "id": "39298f01",
   "metadata": {},
   "outputs": [
    {
     "data": {
      "text/plain": [
       "array([   9,   20,   23,   29,   30,   43,   48,   51,   60,   65,   80,\n",
       "         93,  108,  110,  132,  141,  146,  170,  176,  177,  184,  188,\n",
       "        193,  198,  212,  214,  218,  219,  220,  221,  234,  237,  244,\n",
       "        252,  253,  257,  272,  275,  276,  288,  307,  311,  320,  342,\n",
       "        344,  357,  371,  381,  397,  402,  413,  422,  427,  434,  447,\n",
       "        449,  452,  454,  461,  462,  477,  493,  499,  502,  508,  509,\n",
       "        522,  526,  528,  537,  539,  550,  564,  567,  569,  604,  612,\n",
       "        618,  626,  637,  645,  648,  651,  659,  669,  677,  695,  701,\n",
       "        710,  721,  727,  741,  751,  761,  776,  783,  784,  793,  801,\n",
       "        802,  803,  811,  819,  823,  843,  853,  857,  859,  866,  868,\n",
       "        880,  890,  893,  898,  911,  917,  925,  948,  955,  980,  983,\n",
       "        986, 1001, 1004, 1005, 1029, 1034, 1037, 1042, 1058, 1076, 1079,\n",
       "       1086, 1088, 1096, 1097, 1098, 1102, 1106, 1115, 1122, 1124, 1126,\n",
       "       1127, 1130, 1135, 1140, 1155, 1161, 1162, 1172, 1173, 1174, 1186,\n",
       "       1191, 1199, 1209, 1211, 1221, 1226, 1235, 1246, 1248, 1254, 1261,\n",
       "       1263, 1265, 1273, 1274, 1277, 1278, 1297, 1303, 1309, 1311, 1319,\n",
       "       1324, 1334, 1349, 1358, 1359, 1368, 1370, 1375, 1378, 1391],\n",
       "      dtype=int64)"
      ]
     },
     "execution_count": 302,
     "metadata": {},
     "output_type": "execute_result"
    }
   ],
   "source": [
    "np.where(y_pred_class==\"spam\")[0]"
   ]
  },
  {
   "cell_type": "code",
   "execution_count": 287,
   "id": "14a8b754",
   "metadata": {},
   "outputs": [],
   "source": [
    "#When you had label encoded target label this worked to get the index of spam messages.\n",
    "#nonzero_indices = y_pred_class.nonzero()"
   ]
  },
  {
   "cell_type": "code",
   "execution_count": 289,
   "id": "701e1068",
   "metadata": {},
   "outputs": [
    {
     "data": {
      "text/plain": [
       "'subscrib best mobil content servic uk å£ per ten day send stop   helplin     '"
      ]
     },
     "execution_count": 289,
     "metadata": {},
     "output_type": "execute_result"
    }
   ],
   "source": [
    "X_test.iloc[9]"
   ]
  },
  {
   "cell_type": "code",
   "execution_count": 290,
   "id": "2591f828",
   "metadata": {},
   "outputs": [
    {
     "data": {
      "text/plain": [
       "'   rodger burn   msg   tri call repli sms free nokia mobil   free camcord  pleas call  deliveri tomorrow   '"
      ]
     },
     "execution_count": 290,
     "metadata": {},
     "output_type": "execute_result"
    }
   ],
   "source": [
    "X_test.iloc[253]"
   ]
  },
  {
   "cell_type": "code",
   "execution_count": 291,
   "id": "e5124a3f",
   "metadata": {},
   "outputs": [
    {
     "data": {
      "text/plain": [
       "'award citi break could win å£ summer shop spree everi wk  txt store    skilgm    å£    '"
      ]
     },
     "execution_count": 291,
     "metadata": {},
     "output_type": "execute_result"
    }
   ],
   "source": [
    "X_test.iloc[1370]"
   ]
  },
  {
   "cell_type": "code",
   "execution_count": 308,
   "id": "3f3599c9",
   "metadata": {},
   "outputs": [
    {
     "name": "stdout",
     "output_type": "stream",
     "text": [
      "                                      message_sample  \\\n",
      "0                       Hello, can we meet tomorrow?   \n",
      "1                       FREE! call and win the prize   \n",
      "2                       I am worried about my future   \n",
      "3                        I am free to meet you today   \n",
      "4  I am in office presently.Can you call me when ...   \n",
      "5  I won a prize at school today.I am so happy to...   \n",
      "6                                    archana paniraj   \n",
      "\n",
      "                                clean_message_sample  \n",
      "0                       hello  can we meet tomorrow   \n",
      "1                       free  call and win the prize  \n",
      "2                       i am worried about my future  \n",
      "3                        i am free to meet you today  \n",
      "4  i am in office presently can you call me when ...  \n",
      "5  i won a prize at school today i am so happy to...  \n",
      "6                                    archana paniraj  \n",
      "Predicted class: ['ham' 'spam' 'ham' 'ham' 'spam' 'spam' 'ham']\n",
      "[[9.97846676e-01 2.15332440e-03]\n",
      " [3.57309317e-04 9.99642691e-01]\n",
      " [8.65996650e-01 1.34003350e-01]\n",
      " [7.79703885e-01 2.20296115e-01]\n",
      " [3.66628676e-01 6.33371324e-01]\n",
      " [3.82153015e-01 6.17846985e-01]\n",
      " [8.65996650e-01 1.34003350e-01]]\n"
     ]
    }
   ],
   "source": [
    "# Example test message\n",
    "\n",
    "text_message=pd.DataFrame({\"message_sample\":[\"Hello, can we meet tomorrow?\",\"FREE! call and win the prize\",\"I am worried about my future\",\"I am free to meet you today\",\"I am in office presently.Can you call me when you are free\",\"I won a prize at school today.I am so happy to share this news\",\"archana paniraj\"]})\n",
    "text_message[\"clean_message_sample\"]=text_message[\"message_sample\"].apply(clean_text)\n",
    "\n",
    "print(text_message)\n",
    "\n",
    "# Vectorize the test message\n",
    "test_message_vectorized = cv.transform(text_message[\"clean_message_sample\"])\n",
    "\n",
    "# Predict the class (ham or spam)\n",
    "prediction = nb.predict(test_message_vectorized)\n",
    "predict_proba=nb.predict_proba(test_message_vectorized)\n",
    "\n",
    "print(\"Predicted class:\", prediction)\n",
    "print(predict_proba)"
   ]
  },
  {
   "cell_type": "code",
   "execution_count": 309,
   "id": "2ced558c",
   "metadata": {},
   "outputs": [],
   "source": [
    "labels = [\"ham\", \"spam\"]"
   ]
  },
  {
   "cell_type": "code",
   "execution_count": 310,
   "id": "4af80e0b",
   "metadata": {},
   "outputs": [],
   "source": [
    "# calculate accuracy of class predictions\n",
    "train_pred = nb.predict(x_train_vec)"
   ]
  },
  {
   "cell_type": "code",
   "execution_count": 314,
   "id": "650a5efd",
   "metadata": {},
   "outputs": [
    {
     "name": "stdout",
     "output_type": "stream",
     "text": [
      "train accuracy: 0.9846853314189997 test accuracy: 0.9763101220387652\n"
     ]
    },
    {
     "data": {
      "text/plain": [
       "<AxesSubplot:>"
      ]
     },
     "execution_count": 314,
     "metadata": {},
     "output_type": "execute_result"
    },
    {
     "data": {
      "image/png": "[encoded data removed]",
      "text/plain": [
       "<Figure size 600x400 with 2 Axes>"
      ]
     },
     "metadata": {},
     "output_type": "display_data"
    }
   ],
   "source": [
    "# calculate accuracy of class predictions\n",
    "from sklearn.metrics import confusion_matrix,accuracy_score\n",
    "print(\"train accuracy:\",accuracy_score(y_train,train_pred),\"test accuracy:\",accuracy_score(y_test, y_pred_class))\n",
    "\n",
    "cm=confusion_matrix(y_test,y_pred_class,labels=labels)\n",
    "plt.figure(figsize=(6, 4))\n",
    "sns.heatmap(cm, annot=True, fmt='d', cmap=\"Blues\", xticklabels=labels, yticklabels=labels)"
   ]
  },
  {
   "cell_type": "code",
   "execution_count": 231,
   "id": "2709705e",
   "metadata": {},
   "outputs": [
    {
     "name": "stdout",
     "output_type": "stream",
     "text": [
      "0.9777458722182341\n"
     ]
    },
    {
     "data": {
      "text/plain": [
       "<AxesSubplot:>"
      ]
     },
     "execution_count": 231,
     "metadata": {},
     "output_type": "execute_result"
    },
    {
     "data": {
      "image/png": "[encoded data removed]",
      "text/plain": [
       "<Figure size 600x400 with 2 Axes>"
      ]
     },
     "metadata": {},
     "output_type": "display_data"
    }
   ],
   "source": [
    "# calculate accuracy of class predictions\n",
    "from sklearn.metrics import confusion_matrix,accuracy_score\n",
    "print(accuracy_score(y_test, y_pred_class))\n",
    "\n",
    "cm=confusion_matrix(y_test, y_pred_class,labels=labels)\n",
    "plt.figure(figsize=(6, 4))\n",
    "sns.heatmap(cm, annot=True, fmt='d', cmap=\"Blues\", xticklabels=labels, yticklabels=labels)"
   ]
  },
  {
   "cell_type": "code",
   "execution_count": 173,
   "id": "75ab7098",
   "metadata": {},
   "outputs": [],
   "source": [
    "from sklearn.preprocessing import LabelEncoder\n",
    "le=LabelEncoder()\n",
    "le.fit(y_train)\n",
    "y_train_encoded=le.transform(y_train)"
   ]
  },
  {
   "cell_type": "code",
   "execution_count": 224,
   "id": "4cbd0ea0",
   "metadata": {},
   "outputs": [
    {
     "name": "stdout",
     "output_type": "stream",
     "text": [
      "Best alpha value: 5.0\n"
     ]
    }
   ],
   "source": [
    "from sklearn.model_selection import GridSearchCV\n",
    "from sklearn.naive_bayes import MultinomialNB\n",
    "from sklearn.feature_extraction.text import CountVectorizer\n",
    "from sklearn.pipeline import Pipeline\n",
    "\n",
    "# Example training data\n",
    "\n",
    "\n",
    "# Create a pipeline with CountVectorizer and MultinomialNB\n",
    "pipeline = Pipeline([\n",
    "    ('vectorizer', CountVectorizer(stop_words='english',ngram_range=(1,2), min_df=0.001,max_df=0.9)),\n",
    "    ('classifier', MultinomialNB())\n",
    "])\n",
    "\n",
    "# Define parameter grid for alpha values to search over\n",
    "param_grid = {'classifier__alpha': [0.1, 0.5, 1.0, 2.0, 5.0]}\n",
    "\n",
    "# Perform grid search with cross-validation\n",
    "grid_search = GridSearchCV(pipeline, param_grid, cv=5, scoring='accuracy')\n",
    "grid_search.fit(X_train, y_train)\n",
    "\n",
    "# Get the best alpha value\n",
    "best_alpha = grid_search.best_params_['classifier__alpha']\n",
    "print(\"Best alpha value:\", best_alpha)"
   ]
  },
  {
   "cell_type": "code",
   "execution_count": 315,
   "id": "7f8670b9",
   "metadata": {},
   "outputs": [
    {
     "name": "stdout",
     "output_type": "stream",
     "text": [
      "ROC AUC Score: 0.9798334530555779\n"
     ]
    }
   ],
   "source": [
    "# Calculate AUC\n",
    "from sklearn.metrics import roc_auc_score\n",
    "roc_auc = roc_auc_score(y_test, y_pred_prob[:, 1])\n",
    "\n",
    "print(\"ROC AUC Score:\", roc_auc)"
   ]
  },
  {
   "cell_type": "code",
   "execution_count": 240,
   "id": "89916d02",
   "metadata": {},
   "outputs": [
    {
     "data": {
      "text/plain": [
       "array([6.31410921e-03, 2.31066746e-02, 8.76719348e-07, ...,\n",
       "       3.41828266e-03, 9.99774541e-01, 1.43851444e-04])"
      ]
     },
     "execution_count": 240,
     "metadata": {},
     "output_type": "execute_result"
    }
   ],
   "source": [
    "y_pred_prob"
   ]
  },
  {
   "cell_type": "code",
   "execution_count": 270,
   "id": "b72a1b59",
   "metadata": {},
   "outputs": [
    {
     "name": "stdout",
     "output_type": "stream",
     "text": [
      "12er\n"
     ]
    }
   ],
   "source": [
    "a=\"12ER\"\n",
    "print(str(a).lower())"
   ]
  },
  {
   "cell_type": "code",
   "execution_count": 681,
   "id": "7b7ab9f0",
   "metadata": {},
   "outputs": [],
   "source": [
    "y_non_spam_true=np.zeros(90,dtype=int)"
   ]
  },
  {
   "cell_type": "code",
   "execution_count": 682,
   "id": "5b7221ae",
   "metadata": {},
   "outputs": [],
   "source": [
    "y_spam_true=np.ones(10,dtype=int)"
   ]
  },
  {
   "cell_type": "code",
   "execution_count": 679,
   "id": "7da15498",
   "metadata": {},
   "outputs": [
    {
     "data": {
      "text/plain": [
       "array([0., 0., 0., 0., 0., 0., 0., 0., 0., 0., 0., 0., 0., 0., 0., 0., 0.,\n",
       "       0., 0., 0., 0., 0., 0., 0., 0., 0., 0., 0., 0., 0., 0., 0., 0., 0.,\n",
       "       0., 0., 0., 0., 0., 0., 0., 0., 0., 0., 0., 0., 0., 0., 0., 0., 0.,\n",
       "       0., 0., 0., 0., 0., 0., 0., 0., 0., 0., 0., 0., 0., 0., 0., 0., 0.,\n",
       "       0., 0., 0., 0., 0., 0., 0., 0., 0., 0., 0., 0., 0., 0., 0., 0., 0.,\n",
       "       0., 0., 0., 0., 0.])"
      ]
     },
     "execution_count": 679,
     "metadata": {},
     "output_type": "execute_result"
    }
   ],
   "source": [
    "y_non_spam_true"
   ]
  },
  {
   "cell_type": "code",
   "execution_count": 684,
   "id": "988257f1",
   "metadata": {},
   "outputs": [],
   "source": [
    "y_true_dummy=np.concatenate((y_non_spam_true,y_spam_true))"
   ]
  },
  {
   "cell_type": "code",
   "execution_count": 685,
   "id": "492b51cb",
   "metadata": {},
   "outputs": [
    {
     "data": {
      "text/plain": [
       "array([0, 0, 0, 0, 0, 0, 0, 0, 0, 0, 0, 0, 0, 0, 0, 0, 0, 0, 0, 0, 0, 0,\n",
       "       0, 0, 0, 0, 0, 0, 0, 0, 0, 0, 0, 0, 0, 0, 0, 0, 0, 0, 0, 0, 0, 0,\n",
       "       0, 0, 0, 0, 0, 0, 0, 0, 0, 0, 0, 0, 0, 0, 0, 0, 0, 0, 0, 0, 0, 0,\n",
       "       0, 0, 0, 0, 0, 0, 0, 0, 0, 0, 0, 0, 0, 0, 0, 0, 0, 0, 0, 0, 0, 0,\n",
       "       0, 0, 1, 1, 1, 1, 1, 1, 1, 1, 1, 1])"
      ]
     },
     "execution_count": 685,
     "metadata": {},
     "output_type": "execute_result"
    }
   ],
   "source": [
    "y_true_dummy"
   ]
  },
  {
   "cell_type": "code",
   "execution_count": 687,
   "id": "2436517b",
   "metadata": {},
   "outputs": [],
   "source": [
    "y_non_spam_pred=np.zeros(97,dtype=int)"
   ]
  },
  {
   "cell_type": "code",
   "execution_count": 688,
   "id": "47cc7347",
   "metadata": {},
   "outputs": [],
   "source": [
    "y_spam_pred=np.ones(3,dtype=int)"
   ]
  },
  {
   "cell_type": "code",
   "execution_count": 689,
   "id": "59cddc10",
   "metadata": {},
   "outputs": [],
   "source": [
    "y_pred_dummy=np.concatenate((y_non_spam_pred,y_spam_pred))"
   ]
  },
  {
   "cell_type": "code",
   "execution_count": 690,
   "id": "23c989f3",
   "metadata": {},
   "outputs": [
    {
     "data": {
      "text/plain": [
       "array([0, 0, 0, 0, 0, 0, 0, 0, 0, 0, 0, 0, 0, 0, 0, 0, 0, 0, 0, 0, 0, 0,\n",
       "       0, 0, 0, 0, 0, 0, 0, 0, 0, 0, 0, 0, 0, 0, 0, 0, 0, 0, 0, 0, 0, 0,\n",
       "       0, 0, 0, 0, 0, 0, 0, 0, 0, 0, 0, 0, 0, 0, 0, 0, 0, 0, 0, 0, 0, 0,\n",
       "       0, 0, 0, 0, 0, 0, 0, 0, 0, 0, 0, 0, 0, 0, 0, 0, 0, 0, 0, 0, 0, 0,\n",
       "       0, 0, 0, 0, 0, 0, 0, 0, 0, 1, 1, 1])"
      ]
     },
     "execution_count": 690,
     "metadata": {},
     "output_type": "execute_result"
    }
   ],
   "source": [
    "y_pred_dummy"
   ]
  },
  {
   "cell_type": "code",
   "execution_count": 691,
   "id": "88d543e6",
   "metadata": {},
   "outputs": [],
   "source": [
    "confusion_mat=confusion_matrix(y_true_dummy,y_pred_dummy)"
   ]
  },
  {
   "cell_type": "code",
   "execution_count": 693,
   "id": "d033f971",
   "metadata": {},
   "outputs": [
    {
     "data": {
      "text/plain": [
       "<AxesSubplot:>"
      ]
     },
     "execution_count": 693,
     "metadata": {},
     "output_type": "execute_result"
    },
    {
     "data": {
      "image/png": "[encoded data removed]",
      "text/plain": [
       "<Figure size 640x480 with 2 Axes>"
      ]
     },
     "metadata": {},
     "output_type": "display_data"
    }
   ],
   "source": [
    "sns.heatmap(confusion_mat,annot=True)"
   ]
  },
  {
   "cell_type": "code",
   "execution_count": 694,
   "id": "e36be0fa",
   "metadata": {},
   "outputs": [
    {
     "data": {
      "text/plain": [
       "0.93"
      ]
     },
     "execution_count": 694,
     "metadata": {},
     "output_type": "execute_result"
    }
   ],
   "source": [
    "accuracy_score(y_true_dummy,y_pred_dummy)"
   ]
  },
  {
   "cell_type": "code",
   "execution_count": 695,
   "id": "b9b1d57b",
   "metadata": {},
   "outputs": [
    {
     "data": {
      "text/plain": [
       "1.0"
      ]
     },
     "execution_count": 695,
     "metadata": {},
     "output_type": "execute_result"
    }
   ],
   "source": [
    "precision_score(y_true_dummy,y_pred_dummy)"
   ]
  },
  {
   "cell_type": "code",
   "execution_count": 224,
   "id": "b5ade34e",
   "metadata": {},
   "outputs": [],
   "source": [
    "a=pd.DataFrame({\"a\":[\"good to go\",\"Archana is sweet girl\",\"call free free\",\"win the prize for free\",\"claim the prize\",\"I am good\",\"do you have free time\",\"you are talking rubbish.I have no free time now to hear.Call me later\",\"call and win\"]})"
   ]
  },
  {
   "cell_type": "code",
   "execution_count": 225,
   "id": "37b36e7e",
   "metadata": {},
   "outputs": [
    {
     "data": {
      "text/html": [
       "<div>\n",
       "<style scoped>\n",
       "    .dataframe tbody tr th:only-of-type {\n",
       "        vertical-align: middle;\n",
       "    }\n",
       "\n",
       "    .dataframe tbody tr th {\n",
       "        vertical-align: top;\n",
       "    }\n",
       "\n",
       "    .dataframe thead th {\n",
       "        text-align: right;\n",
       "    }\n",
       "</style>\n",
       "<table border=\"1\" class=\"dataframe\">\n",
       "  <thead>\n",
       "    <tr style=\"text-align: right;\">\n",
       "      <th></th>\n",
       "      <th>a</th>\n",
       "    </tr>\n",
       "  </thead>\n",
       "  <tbody>\n",
       "    <tr>\n",
       "      <th>0</th>\n",
       "      <td>good to go</td>\n",
       "    </tr>\n",
       "    <tr>\n",
       "      <th>1</th>\n",
       "      <td>Archana is sweet girl</td>\n",
       "    </tr>\n",
       "    <tr>\n",
       "      <th>2</th>\n",
       "      <td>call free free</td>\n",
       "    </tr>\n",
       "    <tr>\n",
       "      <th>3</th>\n",
       "      <td>win the prize for free</td>\n",
       "    </tr>\n",
       "    <tr>\n",
       "      <th>4</th>\n",
       "      <td>claim the prize</td>\n",
       "    </tr>\n",
       "    <tr>\n",
       "      <th>5</th>\n",
       "      <td>I am good</td>\n",
       "    </tr>\n",
       "    <tr>\n",
       "      <th>6</th>\n",
       "      <td>do you have free time</td>\n",
       "    </tr>\n",
       "    <tr>\n",
       "      <th>7</th>\n",
       "      <td>you are talking rubbish.I have no free time no...</td>\n",
       "    </tr>\n",
       "    <tr>\n",
       "      <th>8</th>\n",
       "      <td>call and win</td>\n",
       "    </tr>\n",
       "  </tbody>\n",
       "</table>\n",
       "</div>"
      ],
      "text/plain": [
       "                                                   a\n",
       "0                                         good to go\n",
       "1                              Archana is sweet girl\n",
       "2                                     call free free\n",
       "3                             win the prize for free\n",
       "4                                    claim the prize\n",
       "5                                          I am good\n",
       "6                              do you have free time\n",
       "7  you are talking rubbish.I have no free time no...\n",
       "8                                       call and win"
      ]
     },
     "execution_count": 225,
     "metadata": {},
     "output_type": "execute_result"
    }
   ],
   "source": [
    "a"
   ]
  },
  {
   "cell_type": "code",
   "execution_count": 226,
   "id": "5845826e",
   "metadata": {},
   "outputs": [],
   "source": [
    "from sklearn.feature_extraction.text import CountVectorizer,TfidfVectorizer"
   ]
  },
  {
   "cell_type": "code",
   "execution_count": 227,
   "id": "c5eb843c",
   "metadata": {},
   "outputs": [],
   "source": [
    "cv=CountVectorizer(stop_words='english')"
   ]
  },
  {
   "cell_type": "code",
   "execution_count": 228,
   "id": "1e863524",
   "metadata": {},
   "outputs": [
    {
     "data": {
      "text/plain": [
       "CountVectorizer(stop_words='english')"
      ]
     },
     "execution_count": 228,
     "metadata": {},
     "output_type": "execute_result"
    }
   ],
   "source": [
    "cv.fit(a[\"a\"])"
   ]
  },
  {
   "cell_type": "code",
   "execution_count": 239,
   "id": "d91d58e0",
   "metadata": {},
   "outputs": [],
   "source": [
    "a_vec=cv.transform(a[\"a\"]).toarray()"
   ]
  },
  {
   "cell_type": "code",
   "execution_count": 240,
   "id": "5091f5cf",
   "metadata": {},
   "outputs": [
    {
     "data": {
      "text/plain": [
       "array([[0, 0, 0, 0, 1, 0, 0, 0, 0, 0, 0, 0, 0],\n",
       "       [1, 0, 0, 1, 0, 0, 0, 0, 0, 1, 0, 0, 0],\n",
       "       [0, 0, 2, 0, 0, 0, 0, 0, 0, 0, 0, 0, 0],\n",
       "       [0, 0, 1, 0, 0, 0, 0, 1, 0, 0, 0, 0, 1],\n",
       "       [0, 1, 0, 0, 0, 0, 0, 1, 0, 0, 0, 0, 0],\n",
       "       [0, 0, 0, 0, 1, 0, 0, 0, 0, 0, 0, 0, 0],\n",
       "       [0, 0, 1, 0, 0, 0, 0, 0, 0, 0, 0, 1, 0],\n",
       "       [0, 0, 1, 0, 0, 1, 1, 0, 1, 0, 1, 1, 0],\n",
       "       [0, 0, 0, 0, 0, 0, 0, 0, 0, 0, 0, 0, 1]], dtype=int64)"
      ]
     },
     "execution_count": 240,
     "metadata": {},
     "output_type": "execute_result"
    }
   ],
   "source": [
    "a_vec"
   ]
  },
  {
   "cell_type": "code",
   "execution_count": 237,
   "id": "6f01daec",
   "metadata": {},
   "outputs": [
    {
     "data": {
      "text/plain": [
       "dict_items([('good', 4), ('archana', 0), ('sweet', 9), ('girl', 3), ('free', 2), ('win', 12), ('prize', 7), ('claim', 1), ('time', 11), ('talking', 10), ('rubbish', 8), ('hear', 5), ('later', 6)])"
      ]
     },
     "execution_count": 237,
     "metadata": {},
     "output_type": "execute_result"
    }
   ],
   "source": [
    "cv.vocabulary_.items()"
   ]
  },
  {
   "cell_type": "code",
   "execution_count": 238,
   "id": "16e401ba",
   "metadata": {},
   "outputs": [
    {
     "data": {
      "text/plain": [
       "[('archana', 0),\n",
       " ('claim', 1),\n",
       " ('free', 2),\n",
       " ('girl', 3),\n",
       " ('good', 4),\n",
       " ('hear', 5),\n",
       " ('later', 6),\n",
       " ('prize', 7),\n",
       " ('rubbish', 8),\n",
       " ('sweet', 9),\n",
       " ('talking', 10),\n",
       " ('time', 11),\n",
       " ('win', 12)]"
      ]
     },
     "execution_count": 238,
     "metadata": {},
     "output_type": "execute_result"
    }
   ],
   "source": [
    "sorted(cv.vocabulary_.items(),key=lambda x:x[1])"
   ]
  },
  {
   "cell_type": "code",
   "execution_count": 233,
   "id": "291c38f6",
   "metadata": {},
   "outputs": [
    {
     "data": {
      "text/plain": [
       "array(['archana', 'claim', 'free', 'girl', 'good', 'hear', 'later',\n",
       "       'prize', 'rubbish', 'sweet', 'talking', 'time', 'win'],\n",
       "      dtype=object)"
      ]
     },
     "execution_count": 233,
     "metadata": {},
     "output_type": "execute_result"
    }
   ],
   "source": [
    "cv.get_feature_names_out(cv.vocabulary_.items())"
   ]
  },
  {
   "cell_type": "code",
   "execution_count": 274,
   "id": "86dc2a57",
   "metadata": {},
   "outputs": [
    {
     "name": "stderr",
     "output_type": "stream",
     "text": [
      "C:\\Users\\Home\\anaconda3\\lib\\site-packages\\sklearn\\naive_bayes.py:555: UserWarning: alpha too small will result in numeric errors, setting alpha = 1.0e-10\n",
      "  warnings.warn(\n"
     ]
    },
    {
     "data": {
      "text/plain": [
       "MultinomialNB(alpha=0)"
      ]
     },
     "execution_count": 274,
     "metadata": {},
     "output_type": "execute_result"
    }
   ],
   "source": [
    "from sklearn.naive_bayes import MultinomialNB\n",
    "mnb_dummy=MultinomialNB(alpha=0)\n",
    "mnb_dummy.fit(a_vec,[0,0,1,1,1,0,0,0,1])"
   ]
  },
  {
   "cell_type": "code",
   "execution_count": 270,
   "id": "5c902edb",
   "metadata": {},
   "outputs": [],
   "source": [
    "texts = ['this is the first document', 'this document is the second document',\"when you arefree call me.I have to discuss some important\"]"
   ]
  },
  {
   "cell_type": "code",
   "execution_count": 275,
   "id": "80cf0010",
   "metadata": {},
   "outputs": [
    {
     "data": {
      "text/plain": [
       "array([0, 0, 0])"
      ]
     },
     "execution_count": 275,
     "metadata": {},
     "output_type": "execute_result"
    }
   ],
   "source": [
    "mnb_dummy.predict(cv.transform(texts))"
   ]
  },
  {
   "cell_type": "code",
   "execution_count": null,
   "id": "7026ed92",
   "metadata": {},
   "outputs": [],
   "source": []
  },
  {
   "cell_type": "code",
   "execution_count": 272,
   "id": "91472532",
   "metadata": {},
   "outputs": [
    {
     "name": "stderr",
     "output_type": "stream",
     "text": [
      "C:\\Users\\Home\\anaconda3\\lib\\site-packages\\sklearn\\utils\\deprecation.py:103: FutureWarning: Attribute `coef_` was deprecated in version 0.24 and will be removed in 1.1 (renaming of 0.26).\n",
      "  warnings.warn(msg, category=FutureWarning)\n"
     ]
    },
    {
     "data": {
      "text/plain": [
       "array([[-25.10529247,  -2.07944154,  -0.98082925, -25.10529247,\n",
       "        -25.10529247, -25.10529247, -25.10529247,  -1.38629436,\n",
       "        -25.10529247, -25.10529247, -25.10529247, -25.10529247,\n",
       "         -1.38629436]])"
      ]
     },
     "execution_count": 272,
     "metadata": {},
     "output_type": "execute_result"
    }
   ],
   "source": [
    "mnb_dummy.coef_"
   ]
  },
  {
   "cell_type": "code",
   "execution_count": 273,
   "id": "41544d2b",
   "metadata": {},
   "outputs": [
    {
     "data": {
      "text/plain": [
       "array([[0.55555556, 0.44444444],\n",
       "       [0.55555556, 0.44444444],\n",
       "       [0.55555556, 0.44444444]])"
      ]
     },
     "execution_count": 273,
     "metadata": {},
     "output_type": "execute_result"
    }
   ],
   "source": [
    "mnb_dummy.predict_proba(cv.transform(texts))"
   ]
  },
  {
   "cell_type": "code",
   "execution_count": null,
   "id": "245db52d",
   "metadata": {},
   "outputs": [],
   "source": [
    "https://github.com/AHMEDSANA/Spam-and-Ham-text-classifier"
   ]
  }
 ],
 "metadata": {
  "kernelspec": {
   "display_name": "Python 3 (ipykernel)",
   "language": "python",
   "name": "python3"
  },
  "language_info": {
   "codemirror_mode": {
    "name": "ipython",
    "version": 3
   },
   "file_extension": ".py",
   "mimetype": "text/x-python",
   "name": "python",
   "nbconvert_exporter": "python",
   "pygments_lexer": "ipython3",
   "version": "3.9.13"
  }
 },
 "nbformat": 4,
 "nbformat_minor": 5
}
